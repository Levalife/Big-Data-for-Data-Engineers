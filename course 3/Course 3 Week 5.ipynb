{
 "cells": [
  {
   "cell_type": "code",
   "execution_count": 1,
   "metadata": {},
   "outputs": [],
   "source": [
    "from pyspark import SparkContext\n",
    "from pyspark.sql import SparkSession\n",
    "\n",
    "spark_session = SparkSession.Builder().getOrCreate()\n",
    "sc = spark_session.sparkContext\n",
    "dataset = spark_session.read.csv('/data/movielens/ratings_100k.csv', header=True)\n",
    "dataset = dataset.select(\n",
    "    dataset.userId.astype('int'),\n",
    "    dataset.movieId.astype('int'),\n",
    "    dataset.rating.astype('double')\n",
    ")\n",
    "from pyspark.mllib.recommendation import Rating\n",
    "splits = dataset.randomSplit([1.0, 1.0, 1.0])\n",
    "\n",
    "fold_count = 3\n",
    "rank = 20\n",
    "iterations = 5\n",
    "lambda_ = 0.01\n",
    "\n",
    "#rdds_list= [df.rdd.map(lambda x: Rating(int(x.userId), int(x.movieId), float(x.rating))) for df in splits]\n",
    "#rdds_list[0].take(3)"
   ]
  },
  {
   "cell_type": "code",
   "execution_count": 2,
   "metadata": {},
   "outputs": [],
   "source": [
    "from pyspark.ml.evaluation import RegressionEvaluator\n",
    "from pyspark.ml.recommendation import ALS\n",
    "\n",
    "fold_count = 3\n",
    "scores = []\n",
    "\n",
    "for test_fold_index in range(fold_count):\n",
    "    test = splits[0]\n",
    "    train = splits[1].union(splits[2])\n",
    "    #test = rdds_list[0]\n",
    "    #train = sc.union(rdds_list[1:])\n",
    "    als = ALS(userCol=\"userId\", itemCol=\"movieId\", ratingCol=\"rating\", rank=rank, maxIter=iterations, regParam=lambda_)\n",
    "    model = als.fit(train)\n",
    "\n",
    "    # Evaluate the model by computing the RMSE on the test data\n",
    "    predictions = model.transform(test)\n",
    "    predictions = predictions.na.drop()\n",
    "    evaluator = RegressionEvaluator(metricName=\"rmse\", labelCol=\"rating\",\n",
    "                                predictionCol=\"prediction\")\n",
    "    rmse = evaluator.evaluate(predictions)\n",
    "    scores.append(rmse)"
   ]
  },
  {
   "cell_type": "code",
   "execution_count": 3,
   "metadata": {},
   "outputs": [
    {
     "data": {
      "text/plain": [
       "1.31024913445959"
      ]
     },
     "execution_count": 3,
     "metadata": {},
     "output_type": "execute_result"
    }
   ],
   "source": [
    "score = sum(scores) / len(scores)\n",
    "score"
   ]
  },
  {
   "cell_type": "code",
   "execution_count": null,
   "metadata": {},
   "outputs": [],
   "source": []
  },
  {
   "cell_type": "code",
   "execution_count": null,
   "metadata": {},
   "outputs": [],
   "source": []
  }
 ],
 "metadata": {
  "kernelspec": {
   "display_name": "Python 2",
   "language": "python",
   "name": "python2"
  },
  "language_info": {
   "codemirror_mode": {
    "name": "ipython",
    "version": 3
   },
   "file_extension": ".py",
   "mimetype": "text/x-python",
   "name": "python",
   "nbconvert_exporter": "python",
   "pygments_lexer": "ipython3",
   "version": "3.6.2"
  }
 },
 "nbformat": 4,
 "nbformat_minor": 2
}
