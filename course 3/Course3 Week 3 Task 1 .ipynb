{
 "cells": [
  {
   "cell_type": "code",
   "execution_count": 20,
   "metadata": {
    "scrolled": true
   },
   "outputs": [],
   "source": [
    "from pyspark import SparkContext\n",
    "from pyspark.sql import SparkSession\n",
    "\n",
    "spark_session = SparkSession.Builder().getOrCreate()\n",
    "train = spark_session.read.csv('/data/covertype2/train.csv', header=True)\n",
    "test = spark_session.read.csv('/data/covertype2/test.csv', header=True)"
   ]
  },
  {
   "cell_type": "code",
   "execution_count": 21,
   "metadata": {},
   "outputs": [],
   "source": [
    "train1 = train.select(\n",
    "    train.Elevation.astype('int'),\n",
    "    train.Aspect.astype('int'),\n",
    "    train.Slope.astype('int'),\n",
    "    train.Horizontal_Distance_To_Hydrology.astype('int'),\n",
    "    train.Vertical_Distance_To_Hydrology.astype('int'),\n",
    "    train.Horizontal_Distance_To_Roadways.astype('int'),\n",
    "    train.Hillshade_9am.astype('int'),\n",
    "    train.Hillshade_Noon.astype('int'),\n",
    "    train.Hillshade_3pm.astype('int'),\n",
    "    train.Horizontal_Distance_To_Fire_Points.astype('int'),\n",
    "    train.Wild_Type.astype('string'),\n",
    "    train.Soil_Type.astype('string'),\n",
    "    train.Target.astype('int').alias('label')\n",
    ")\n",
    "\n",
    "test1 = train.select(\n",
    "    train.Elevation.astype('int'),\n",
    "    train.Aspect.astype('int'),\n",
    "    train.Slope.astype('int'),\n",
    "    train.Horizontal_Distance_To_Hydrology.astype('int'),\n",
    "    train.Vertical_Distance_To_Hydrology.astype('int'),\n",
    "    train.Horizontal_Distance_To_Roadways.astype('int'),\n",
    "    train.Hillshade_9am.astype('int'),\n",
    "    train.Hillshade_Noon.astype('int'),\n",
    "    train.Hillshade_3pm.astype('int'),\n",
    "    train.Horizontal_Distance_To_Fire_Points.astype('int'),\n",
    "    train.Wild_Type.astype('string'),\n",
    "    train.Soil_Type.astype('string'),\n",
    "    train.Target.astype('int').alias('label')\n",
    ")"
   ]
  },
  {
   "cell_type": "code",
   "execution_count": 22,
   "metadata": {
    "scrolled": true
   },
   "outputs": [],
   "source": [
    "from pyspark.ml.feature import VectorAssembler, OneHotEncoder, StringIndexer\n",
    "\n",
    "stringIndexer = StringIndexer(inputCol='Wild_Type', outputCol='Wild_Type_Index')\n",
    "st_model1 = stringIndexer.fit(train1)\n",
    "indexed_train1 = st_model1.transform(train1)\n",
    "indexed_test1 = st_model1.transform(test1)\n",
    "\n",
    "stringIndexer = StringIndexer(inputCol='Soil_Type', outputCol='Soil_Type_Index')\n",
    "st_model2 = stringIndexer.fit(indexed_train1)\n",
    "indexed2_train1 = st_model2.transform(indexed_train1)\n",
    "indexed2_test1 = st_model2.transform(indexed_test1)\n",
    "\n",
    "encoder = OneHotEncoder(inputCol='Wild_Type_Index', outputCol='Wild_Type_vec')\n",
    "encoder.setDropLast(False)\n",
    "encoded_train1 = encoder.transform(indexed2_train1)\n",
    "encoded_test1 = encoder.transform(indexed2_test1)\n",
    "\n",
    "encoder2 = OneHotEncoder(inputCol='Soil_Type_Index', outputCol='Soil_Type_vec')\n",
    "encoder2.setDropLast(False)\n",
    "encoded2_train1 = encoder2.transform(encoded_train1)\n",
    "encoded2_test1 = encoder2.transform(encoded_test1)"
   ]
  },
  {
   "cell_type": "code",
   "execution_count": 23,
   "metadata": {},
   "outputs": [],
   "source": [
    "\n",
    "assembler = VectorAssembler().setInputCols(['Elevation',\n",
    "                        'Aspect',\n",
    "                        'Slope',\n",
    "                        'Horizontal_Distance_To_Hydrology',\n",
    "                        'Vertical_Distance_To_Hydrology',\n",
    "                        'Horizontal_Distance_To_Roadways',\n",
    "                        'Hillshade_9am',\n",
    "                        'Hillshade_Noon',\n",
    "                        'Hillshade_3pm',\n",
    "                        'Horizontal_Distance_To_Fire_Points',\n",
    "                         'Wild_Type_vec', 'Soil_Type_vec'\n",
    "                         ]).setOutputCol(\"features\")\n"
   ]
  },
  {
   "cell_type": "code",
   "execution_count": 24,
   "metadata": {},
   "outputs": [],
   "source": [
    "train2 = assembler.transform(encoded2_train1)\n",
    "train3 = train2.select('features','label')\n",
    "\n",
    "test2 = assembler.transform(encoded2_test1)\n",
    "test3 = test2.select('features','label')"
   ]
  },
  {
   "cell_type": "code",
   "execution_count": 25,
   "metadata": {},
   "outputs": [],
   "source": [
    "from pyspark.ml.classification import RandomForestClassifier\n",
    "rfClassifier = RandomForestClassifier(labelCol=\"label\", numTrees=100, maxDepth=9)\n",
    "rfModel = rfClassifier.fit(train3)\n",
    "predictions = rfModel.transform(test3)\n",
    "#predictions.select(\"label\", \"prediction\").show()"
   ]
  },
  {
   "cell_type": "code",
   "execution_count": 26,
   "metadata": {},
   "outputs": [],
   "source": [
    "from pyspark.ml.evaluation import MulticlassClassificationEvaluator\n",
    "evaluator = MulticlassClassificationEvaluator(labelCol=\"label\", predictionCol=\"prediction\", metricName=\"accuracy\")\n",
    "accuracy = evaluator.evaluate(predictions)"
   ]
  },
  {
   "cell_type": "code",
   "execution_count": 27,
   "metadata": {},
   "outputs": [
    {
     "name": "stdout",
     "output_type": "stream",
     "text": [
      "0.7267147781128824\n"
     ]
    }
   ],
   "source": [
    "print(accuracy)"
   ]
  },
  {
   "cell_type": "code",
   "execution_count": null,
   "metadata": {},
   "outputs": [],
   "source": [
    "from pyspark.ml import Pipeline\n",
    "rfClassifier = RandomForestClassifier(labelCol=\"label\")\n",
    "pipeline = Pipeline(stages=[rfClassifier])"
   ]
  },
  {
   "cell_type": "code",
   "execution_count": null,
   "metadata": {},
   "outputs": [],
   "source": [
    "from pyspark.ml.tuning import CrossValidator, ParamGridBuilder\n",
    "param_grid = ParamGridBuilder()\\\n",
    "            .addGrid(rfClassifier.numTrees, [75 , 100, 150, 200])\\\n",
    "            .addGrid(rfClassifier.maxDepth, [4, 5, 6, 7, 8])\\\n",
    "            .build()\n",
    "cross_val = CrossValidator(estimator=pipeline,\n",
    "                          estimatorParamMaps=param_grid,\n",
    "                          evaluator=evaluator,\n",
    "                          numFolds=10)\n",
    "cvModel = cross_val.fit(train3)"
   ]
  },
  {
   "cell_type": "code",
   "execution_count": null,
   "metadata": {},
   "outputs": [],
   "source": [
    "cvModel.avgMetrics"
   ]
  },
  {
   "cell_type": "code",
   "execution_count": null,
   "metadata": {},
   "outputs": [],
   "source": [
    "#print(cvModel.bestModel.stages[0])"
   ]
  },
  {
   "cell_type": "code",
   "execution_count": null,
   "metadata": {},
   "outputs": [],
   "source": []
  },
  {
   "cell_type": "code",
   "execution_count": null,
   "metadata": {},
   "outputs": [],
   "source": []
  }
 ],
 "metadata": {
  "kernelspec": {
   "display_name": "Python 2",
   "language": "python",
   "name": "python2"
  },
  "language_info": {
   "codemirror_mode": {
    "name": "ipython",
    "version": 3
   },
   "file_extension": ".py",
   "mimetype": "text/x-python",
   "name": "python",
   "nbconvert_exporter": "python",
   "pygments_lexer": "ipython3",
   "version": "3.6.2"
  }
 },
 "nbformat": 4,
 "nbformat_minor": 2
}
