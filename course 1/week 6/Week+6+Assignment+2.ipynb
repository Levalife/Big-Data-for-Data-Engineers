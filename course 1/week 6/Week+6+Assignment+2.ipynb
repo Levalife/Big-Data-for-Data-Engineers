{
 "cells": [
  {
   "cell_type": "code",
   "execution_count": 17,
   "metadata": {},
   "outputs": [
    {
     "name": "stdout",
     "output_type": "stream",
     "text": [
      "Overwriting mapper1.py\n"
     ]
    }
   ],
   "source": [
    "%%writefile mapper1.py\n",
    "\n",
    "\n",
    "import sys\n",
    "import re\n",
    "from collections import Counter\n",
    "\n",
    "reload(sys)\n",
    "sys.setdefaultencoding('utf-8')  # required to convert to unicode\n",
    "\n",
    "path = 'stop_words_en.txt'\n",
    "\n",
    "# Your code for reading stop words here\n",
    "with open(path) as f1:\n",
    "    t = f1.readlines()\n",
    "    stop_words_template = list(word.strip() for word in t)\n",
    "    \n",
    "\n",
    "for line in sys.stdin:\n",
    "    try:\n",
    "        article_id, text = unicode(line.strip()).split('\\t', 1)\n",
    "    except ValueError as e:\n",
    "        continue\n",
    "    \n",
    "    words = re.split(\"\\W*\\s+\\W*\", text, flags=re.UNICODE)\n",
    "    \n",
    "    lower_words = map(lambda x:x.lower(), words)\n",
    "    counts = Counter(lower_words)\n",
    "    \n",
    "    \n",
    "    total_words = 0\n",
    "    \n",
    "    for word, word_counts in counts.items():        \n",
    "        if word not in stop_words_template:\n",
    "            total_words += word_counts\n",
    "    for word, word_counts in counts.items():        \n",
    "        if word not in stop_words_template:\n",
    "            tf = float(word_counts) / total_words\n",
    "            print '%s\\t%d\\t%s' % (word, 0, 'idf')\n",
    "            print '%s\\t%d\\t%f' % (word, int(article_id), tf)\n",
    "            \n",
    "    \n",
    "    \n",
    "    \n",
    "    "
   ]
  },
  {
   "cell_type": "code",
   "execution_count": 55,
   "metadata": {},
   "outputs": [
    {
     "name": "stdout",
     "output_type": "stream",
     "text": [
      "Overwriting reducer1.py\n"
     ]
    }
   ],
   "source": [
    "%%writefile reducer1.py\n",
    "import math\n",
    "import sys\n",
    "\n",
    "current_key = None\n",
    "article_count = 0\n",
    "\n",
    "for line in sys.stdin:\n",
    "    try:\n",
    "        key, article_id, tf = line.strip().split('\\t')\n",
    "        article_id = int(article_id)\n",
    "    except ValueError as e:\n",
    "        continue\n",
    "    if current_key != key:\n",
    "        article_count = 0\n",
    "        current_key = key\n",
    "    if article_id == 0:\n",
    "        article_count += 1\n",
    "    else:\n",
    "        idf = 1/math.log(1 + article_count)\n",
    "        tf = float(tf)\n",
    "        tf_idf = tf*idf\n",
    "        print \"%s_%d\\t%f\" % (current_key, article_id,tf_idf)\n",
    "\n",
    "if current_key:\n",
    "    idf = 1/math.log(1 + article_count)\n",
    "    tf = float(tf)\n",
    "    tf_idf = tf*idf\n",
    "    print \"%s_%d\\t%f\" % (current_key, article_id,tf_idf)"
   ]
  },
  {
   "cell_type": "code",
   "execution_count": 33,
   "metadata": {},
   "outputs": [
    {
     "name": "stdout",
     "output_type": "stream",
     "text": [
      "Overwriting reducer.py\n"
     ]
    }
   ],
   "source": [
    "%%writefile reducer.py\n",
    "\n",
    "import math\n",
    "import sys\n",
    "\n",
    "current_key = None\n",
    "article_count = 0\n",
    "\n",
    "for line in sys.stdin:\n",
    "    try:\n",
    "        key, article_id, tf = line.strip().split('\\t')\n",
    "        article_id = int(article_id)\n",
    "  \n",
    "    except ValueError as e:\n",
    "        continue\n",
    "    print \"%s\\t%d\\t%s\" % (key, article_id,tf)\n",
    "    "
   ]
  },
  {
   "cell_type": "code",
   "execution_count": 59,
   "metadata": {},
   "outputs": [
    {
     "name": "stdout",
     "output_type": "stream",
     "text": [
      "0.000351\n"
     ]
    }
   ],
   "source": [
    "%%bash\n",
    "\n",
    "OUT_DIR1=\"week6_assignment_1_1_\"$(date +\"%s%6N\")\n",
    "NUM_REDUCERS=2\n",
    "LOGS=\"stderr_logs.txt\"\n",
    "\n",
    "# Stub code for your job\n",
    "\n",
    "yarn jar /opt/cloudera/parcels/CDH/lib/hadoop-mapreduce/hadoop-streaming.jar -D mapred.jab.name=\"Streaming Stop Words\" \\\n",
    "    -D mapreduce.job.reduces=${NUM_REDUCERS} \\\n",
    "    -D mapreduce.partition.keypartitioner.options=\"-k1,1\" \\\n",
    "    -D stream.num.map.output.key.fields=2 \\\n",
    "    -files mapper1.py,reducer1.py,/datasets/stop_words_en.txt \\\n",
    "    -mapper \"python mapper1.py\" \\\n",
    "    -reducer \"python reducer1.py\" \\\n",
    "    -input /data/wiki/en_articles_part \\\n",
    "    -output ${OUT_DIR1} \\\n",
    "    -partitioner org.apache.hadoop.mapred.lib.KeyFieldBasedPartitioner > /dev/null\n",
    "    \n",
    "#hdfs dfs -get ${OUT_DIR1}/part-00000 idf.txt\n",
    " #-D mapreduce.job.output.key.comparator.class=org.apache.hadoop.mapreduce.lib.partition.KeyFieldBasedComparator \\\n",
    " #-D mapreduce.partition.keycomparator.options=-k1,1nr \\\n",
    " #-D mapreduce.partition.keypartitioner.options=\"-k1,1\" \\\n",
    " #-D stream.num.map.output.key.fields=2 \\\n",
    " #-files reduce_side_mapper_slice.py \\\n",
    " #-mapper 'python reduce_side_mapper_slice.py' \\\n",
    " #-numReduceTasks 5 \\\n",
    " #-input /data/telecommunication,/user/adral/geojson \\\n",
    " #-output telecom-joins \\\n",
    " #-partitioner org.apache.hadoop.mapred.lib.KeyFieldBasedPartitioner\n",
    " \n",
    "hdfs dfs -cat ${OUT_DIR1}/part-00000 ${OUT_DIR1}/part-00001 | grep -w \"labor_12\" | cut -f2"
   ]
  },
  {
   "cell_type": "code",
   "execution_count": null,
   "metadata": {},
   "outputs": [],
   "source": []
  }
 ],
 "metadata": {
  "kernelspec": {
   "display_name": "Python 2",
   "language": "python",
   "name": "python2"
  },
  "language_info": {
   "codemirror_mode": {
    "name": "ipython",
    "version": 2
   },
   "file_extension": ".py",
   "mimetype": "text/x-python",
   "name": "python",
   "nbconvert_exporter": "python",
   "pygments_lexer": "ipython2",
   "version": "2.7.12"
  }
 },
 "nbformat": 4,
 "nbformat_minor": 2
}
