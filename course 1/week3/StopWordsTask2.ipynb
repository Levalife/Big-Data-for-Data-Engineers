{
 "cells": [
  {
   "cell_type": "markdown",
   "metadata": {
    "colab_type": "text",
    "id": "Xsd0oermS80K"
   },
   "source": [
    "# Hadoop Streaming assignment 2: Stop Words"
   ]
  },
  {
   "cell_type": "markdown",
   "metadata": {
    "colab_type": "text",
    "id": "V_0wfvKjS80L"
   },
   "source": [
    "The purpose of this task is to improve the previous \"Word rating\" program. You have to calculate how many stop words are there in the input dataset. Stop words list is in `/datasets/stop_words_en.txt` file. \n",
    "\n",
    "Use Hadoop counters to compute the number of stop words and total words in the dataset. The result is the percentage of stop words in the entire dataset (without percent symbol).\n",
    "\n",
    "There are several points for this task:\n",
    "\n",
    "1) As an output, you have to get the percentage of stop words in the entire dataset without percent symbol (correct answer on sample dataset is `41.603`).\n",
    "\n",
    "2) As you can see in the Hadoop Streaming userguide \"you will need to use `-files` option to tell the framework to pack your executable files as a part of a job submission.\"\n",
    "\n",
    "3) Do not forget to redirect junk output to `/dev/null`.\n",
    "\n",
    "4) You may modify mappers/reducers from \"Word rating\" task and parse its output to get the answer on \"Stop Words\" task.\n",
    "\n",
    "5) You may use mapper/reducer to get `\"Stop Words\"` and `\"Total Words\"` amounts and redirect them to sys.stderr. After that you may redirect the output of MapReduce to the parsed function. In this function you may find rows correspond to these amounts and compute the percentage.\n",
    "\n",
    "Here you can find the draft for the main steps of the task. You can use other methods to get the solution."
   ]
  },
  {
   "cell_type": "markdown",
   "metadata": {
    "colab_type": "text",
    "id": "EpO7whLNS80M"
   },
   "source": [
    "## Step 1. Create the mapper.\n",
    "\n",
    "<b>Hint:</b> Create the mapper, which calculates Total word and Stop word amounts. You may redirect this information to sys.stderr. This will make it possible to parse these data on the next steps.\n",
    "\n",
    "Example of the redirections:\n",
    "\n",
    "`print >> sys.stderr, \"reporter:counter:Wiki stats,Total words,%d\" % count`\n",
    "\n",
    "Remember about the Distributed cache. If we add option `-files mapper.py,reducer.py,/datasets/stop_words_en.txt`, then `mapper.py, reducer.py` and `stop_words_en.txt` file will be in the same directory on the datanodes. Hence, it is necessary to use a relative path `stop_words_en.txt` from the mapper to access this txt file."
   ]
  },
  {
   "cell_type": "code",
   "execution_count": 31,
   "metadata": {
    "colab": {
     "autoexec": {
      "startup": false,
      "wait_interval": 0
     }
    },
    "colab_type": "code",
    "id": "KU56zkC0S80M"
   },
   "outputs": [
    {
     "name": "stdout",
     "output_type": "stream",
     "text": [
      "Overwriting mapper.py\n"
     ]
    }
   ],
   "source": [
    "%%writefile mapper.py\n",
    "\n",
    "\n",
    "import sys\n",
    "import re\n",
    "from collections import Counter\n",
    "\n",
    "reload(sys)\n",
    "sys.setdefaultencoding('utf-8')  # required to convert to unicode\n",
    "\n",
    "path = 'stop_words_en.txt'\n",
    "\n",
    "# Your code for reading stop words here\n",
    "with open(path) as f1:\n",
    "    t = f1.readlines()\n",
    "    stop_words_template = list(word.strip() for word in t)\n",
    "    \n",
    "\n",
    "for line in sys.stdin:\n",
    "    try:\n",
    "        article_id, text = unicode(line.strip()).split('\\t', 1)\n",
    "    except ValueError as e:\n",
    "        continue\n",
    "\n",
    "    words = re.split(\"\\W*\\s+\\W*\", text, flags=re.UNICODE)\n",
    "    \n",
    "    # Your code for mapper here.\n",
    "    \n",
    "    counts = Counter(words)\n",
    "    \n",
    "    total_words = 0\n",
    "    stop_words = 0\n",
    "    for word, word_counts in counts.items():\n",
    "        \n",
    "        if word.lower() in stop_words_template:\n",
    "            stop_words += word_counts\n",
    "        total_words += word_counts\n",
    "    print >> sys.stderr, \"reporter:counter:Mapper,Stop words,%d\" % (stop_words)\n",
    "    print >> sys.stderr, \"reporter:counter:Mapper,Total words,%d\" % (total_words)\n",
    "    \n",
    "    \n",
    "    "
   ]
  },
  {
   "cell_type": "markdown",
   "metadata": {
    "colab_type": "text",
    "id": "-3EM-tBES80O"
   },
   "source": [
    "## Step 2. Create the reducer.\n",
    "\n",
    "Create the reducer, which will accumulate the information after the mapper step. You may implement the combiner if you want. It can be useful from optimizing and speed up your computations (see the lectures from the Week 2 for more details)."
   ]
  },
  {
   "cell_type": "code",
   "execution_count": 32,
   "metadata": {
    "colab": {
     "autoexec": {
      "startup": false,
      "wait_interval": 0
     }
    },
    "colab_type": "code",
    "id": "yslvpwpfS80P"
   },
   "outputs": [
    {
     "name": "stdout",
     "output_type": "stream",
     "text": [
      "Overwriting reducer.py\n"
     ]
    }
   ],
   "source": [
    "%%writefile reducer.py\n",
    "import sys\n",
    "reload(sys)\n",
    "sys.setdefaultencoding('utf-8')\n",
    "\n",
    "# Your code for reducer here.\n",
    "stop_words = 0\n",
    "total_words = 0\n",
    "\n",
    "for line in sys.stdin:\n",
    "\n",
    "    try:\n",
    "        line_array = unicode(line.strip()).split(',', 1)\n",
    "    except ValueError as e:\n",
    "        continue\n",
    "    if \"Total words\" in line_array:\n",
    "        stop_words += int(line_array[-1])\n",
    "    if \"Stop words\" in line_array:\n",
    "        total_words += int(line_array[-1])\n",
    "        \n",
    "print >> sys.stderr, \"reporter:counter:Reducer,Stop words,%d\" % (stop_words)\n",
    "print >> sys.stderr, \"reporter:counter:Reducer,Total words,%d\" % (total_words)\n",
    "    \n",
    "\n"
   ]
  },
  {
   "cell_type": "markdown",
   "metadata": {
    "colab_type": "text",
    "id": "MZQKrDecS80Q"
   },
   "source": [
    "## Step 3. Create the parsed function.\n",
    "\n",
    "<b>Hint:</b> Create the function, which will parse MapReduce sys.stderr for Total word and Stop word amounts.\n",
    "\n",
    "The `./counter_process.py` script should do the following:\n",
    "\n",
    "- parse hadoop logs from Stderr,\n",
    "\n",
    "- retrieve values of 2 user-defined counters,\n",
    "\n",
    "- compute percentage and output it into the stdout."
   ]
  },
  {
   "cell_type": "code",
   "execution_count": 33,
   "metadata": {
    "colab": {
     "autoexec": {
      "startup": false,
      "wait_interval": 0
     }
    },
    "colab_type": "code",
    "id": "XptufhbMS80R"
   },
   "outputs": [
    {
     "name": "stdout",
     "output_type": "stream",
     "text": [
      "Overwriting counter_process.py\n"
     ]
    }
   ],
   "source": [
    "%%writefile counter_process.py\n",
    "\n",
    "#! /usr/bin/env python\n",
    "\n",
    "import sys\n",
    "\n",
    "def count_percetage(name_stop, name_total):\n",
    "    stop_words = 0\n",
    "    total_words = 0\n",
    "    \n",
    "    \n",
    "    for line in sys.stdin:\n",
    "        \n",
    "        if name_stop in line:\n",
    "            stop_words = float(line.split(\"=\")[-1])\n",
    "        if name_total in line:\n",
    "            total_words = int(line.split(\"=\")[-1])\n",
    "    \n",
    "    print round(stop_words/total_words * 100, 3)\n",
    "\n",
    "\n",
    "if __name__ == '__main__':\n",
    "    # Your code here.\n",
    "    name_stop = sys.argv[1]\n",
    "    name_total = sys.argv[2]\n",
    "    count_percetage(name_stop, name_total)"
   ]
  },
  {
   "cell_type": "markdown",
   "metadata": {
    "colab_type": "text",
    "id": "O_7XrxbKS80S"
   },
   "source": [
    "## Step 4. Bash commands\n",
    "\n",
    "<b> Hints: </b> \n",
    "\n",
    "1) If you want to redirect standard output to txt file you may use the following argument in yarn jar:\n",
    "\n",
    "```\n",
    "yarn ... \\\n",
    "  ... \\\n",
    "  -output ${OUT_DIR} > /dev/null 2> $LOGS\n",
    "```\n",
    "\n",
    "2) For printing the percentage of stop words in the entire dataset you may parse the MapReduce output. Parsed script may be written in Python code. \n",
    "\n",
    "To get the result you may use the UNIX pipe operator `|`. The output of the first command acts as an input to the second command (see lecture file-content-exploration-2 for more details).\n",
    "\n",
    "With this operator you may use command `cat` to redirect the output of MapReduce to ./counter_process.py with arguments, which correspond to the `\"Stop words\"` and `\"Total words\"` counters. Example is the following:\n",
    "\n",
    "`cat $LOGS | python ./counter_process.py \"Stop words\" \"Total words\"`\n",
    "\n",
    "Now something about Hadoop counters naming. \n",
    " - Built-in Hadoop counters usually have UPPER_CASE names. To make the grading system possible to distinguish your custom counters and system ones please use the following pattern for their naming: `[Aa]aaa...` (all except the first letters should be in lowercase);\n",
    " - Another points is how Hadoop sorts the counters. It sorts them lexicographically. Grading system reads your first counter as Stop words counter and the second as Total words. Please name you counters in such way that Hadoop set the Stop words counter before the Total words. \n",
    " \n",
    "E.g. \"Stop words\" and \"Total words\" names are Ok because they correspond both requirements.\n",
    "\n",
    "3) In Python code sys.argv is a list, which contains the command-line arguments passed to the script. The name of the script is in `sys.argv[0]`. Other arguments begin from `sys.argv[1]`.\n",
    "\n",
    "Hence, if you have two arguments, which you send from the Bash to your python script, you may use arguments in your script with the following command:\n",
    "\n",
    "`function(sys.argv[1], sys.argv[2])`\n",
    "\n",
    "4) Do not forget about printing your MapReduce output in the last cell. You may use the next command:\n",
    "\n",
    "`cat $LOGS >&2`"
   ]
  },
  {
   "cell_type": "code",
   "execution_count": 34,
   "metadata": {
    "colab": {
     "autoexec": {
      "startup": false,
      "wait_interval": 0
     }
    },
    "colab_type": "code",
    "id": "bG3omEqzS80S"
   },
   "outputs": [
    {
     "name": "stdout",
     "output_type": "stream",
     "text": [
      "41.603\n"
     ]
    },
    {
     "name": "stderr",
     "output_type": "stream",
     "text": [
      "19/02/01 19:49:26 INFO client.RMProxy: Connecting to ResourceManager at /0.0.0.0:8032\n",
      "19/02/01 19:49:26 INFO client.RMProxy: Connecting to ResourceManager at /0.0.0.0:8032\n",
      "19/02/01 19:49:27 INFO mapred.FileInputFormat: Total input files to process : 1\n",
      "19/02/01 19:49:28 INFO mapreduce.JobSubmitter: number of splits:2\n",
      "19/02/01 19:49:28 INFO mapreduce.JobSubmitter: Submitting tokens for job: job_1549015547459_0016\n",
      "19/02/01 19:49:28 INFO impl.YarnClientImpl: Submitted application application_1549015547459_0016\n",
      "19/02/01 19:49:28 INFO mapreduce.Job: The url to track the job: http://60086c664aea:8088/proxy/application_1549015547459_0016/\n",
      "19/02/01 19:49:28 INFO mapreduce.Job: Running job: job_1549015547459_0016\n",
      "19/02/01 19:49:34 INFO mapreduce.Job: Job job_1549015547459_0016 running in uber mode : false\n",
      "19/02/01 19:49:34 INFO mapreduce.Job:  map 0% reduce 0%\n",
      "19/02/01 19:49:50 INFO mapreduce.Job:  map 12% reduce 0%\n",
      "19/02/01 19:49:56 INFO mapreduce.Job:  map 18% reduce 0%\n",
      "19/02/01 19:50:02 INFO mapreduce.Job:  map 24% reduce 0%\n",
      "19/02/01 19:50:08 INFO mapreduce.Job:  map 29% reduce 0%\n",
      "19/02/01 19:50:14 INFO mapreduce.Job:  map 35% reduce 0%\n",
      "19/02/01 19:50:20 INFO mapreduce.Job:  map 41% reduce 0%\n",
      "19/02/01 19:50:26 INFO mapreduce.Job:  map 47% reduce 0%\n",
      "19/02/01 19:50:32 INFO mapreduce.Job:  map 53% reduce 0%\n",
      "19/02/01 19:50:38 INFO mapreduce.Job:  map 59% reduce 0%\n",
      "19/02/01 19:50:44 INFO mapreduce.Job:  map 65% reduce 0%\n",
      "19/02/01 19:50:45 INFO mapreduce.Job:  map 82% reduce 0%\n",
      "19/02/01 19:50:47 INFO mapreduce.Job:  map 100% reduce 0%\n",
      "19/02/01 19:50:50 INFO mapreduce.Job:  map 100% reduce 13%\n",
      "19/02/01 19:50:51 INFO mapreduce.Job:  map 100% reduce 38%\n",
      "19/02/01 19:50:52 INFO mapreduce.Job:  map 100% reduce 50%\n",
      "19/02/01 19:50:53 INFO mapreduce.Job:  map 100% reduce 75%\n",
      "19/02/01 19:50:54 INFO mapreduce.Job:  map 100% reduce 100%\n",
      "19/02/01 19:50:56 INFO mapreduce.Job: Job job_1549015547459_0016 completed successfully\n",
      "19/02/01 19:50:57 INFO mapreduce.Job: Counters: 51\n",
      "\tFile System Counters\n",
      "\t\tFILE: Number of bytes read=48\n",
      "\t\tFILE: Number of bytes written=1399760\n",
      "\t\tFILE: Number of read operations=0\n",
      "\t\tFILE: Number of large read operations=0\n",
      "\t\tFILE: Number of write operations=0\n",
      "\t\tHDFS: Number of bytes read=76874501\n",
      "\t\tHDFS: Number of bytes written=0\n",
      "\t\tHDFS: Number of read operations=30\n",
      "\t\tHDFS: Number of large read operations=0\n",
      "\t\tHDFS: Number of write operations=16\n",
      "\tJob Counters \n",
      "\t\tLaunched map tasks=2\n",
      "\t\tLaunched reduce tasks=8\n",
      "\t\tData-local map tasks=2\n",
      "\t\tTotal time spent by all maps in occupied slots (ms)=140247\n",
      "\t\tTotal time spent by all reduces in occupied slots (ms)=19650\n",
      "\t\tTotal time spent by all map tasks (ms)=140247\n",
      "\t\tTotal time spent by all reduce tasks (ms)=19650\n",
      "\t\tTotal vcore-milliseconds taken by all map tasks=140247\n",
      "\t\tTotal vcore-milliseconds taken by all reduce tasks=19650\n",
      "\t\tTotal megabyte-milliseconds taken by all map tasks=143612928\n",
      "\t\tTotal megabyte-milliseconds taken by all reduce tasks=20121600\n",
      "\tMap-Reduce Framework\n",
      "\t\tMap input records=4100\n",
      "\t\tMap output records=0\n",
      "\t\tMap output bytes=0\n",
      "\t\tMap output materialized bytes=96\n",
      "\t\tInput split bytes=228\n",
      "\t\tCombine input records=0\n",
      "\t\tCombine output records=0\n",
      "\t\tReduce input groups=0\n",
      "\t\tReduce shuffle bytes=96\n",
      "\t\tReduce input records=0\n",
      "\t\tReduce output records=0\n",
      "\t\tSpilled Records=0\n",
      "\t\tShuffled Maps =16\n",
      "\t\tFailed Shuffles=0\n",
      "\t\tMerged Map outputs=16\n",
      "\t\tGC time elapsed (ms)=720\n",
      "\t\tCPU time spent (ms)=140370\n",
      "\t\tPhysical memory (bytes) snapshot=1987452928\n",
      "\t\tVirtual memory (bytes) snapshot=20123140096\n",
      "\t\tTotal committed heap usage (bytes)=1573388288\n",
      "\tMapper\n",
      "\t\tStop words=4966261\n",
      "\t\tTotal words=11937375\n",
      "\tShuffle Errors\n",
      "\t\tBAD_ID=0\n",
      "\t\tCONNECTION=0\n",
      "\t\tIO_ERROR=0\n",
      "\t\tWRONG_LENGTH=0\n",
      "\t\tWRONG_MAP=0\n",
      "\t\tWRONG_REDUCE=0\n",
      "\tFile Input Format Counters \n",
      "\t\tBytes Read=76874273\n",
      "\tFile Output Format Counters \n",
      "\t\tBytes Written=0\n",
      "19/02/01 19:50:57 INFO streaming.StreamJob: Output directory: coursera_mr_task21549050565093235\n"
     ]
    }
   ],
   "source": [
    "%%bash\n",
    "\n",
    "OUT_DIR=\"coursera_mr_task2\"$(date +\"%s%6N\")\n",
    "NUM_REDUCERS=8\n",
    "LOGS=\"stderr_logs.txt\"\n",
    "\n",
    "# Stub code for your job\n",
    "\n",
    "yarn jar /opt/cloudera/parcels/CDH/lib/hadoop-mapreduce/hadoop-streaming.jar -D mapred.jab.name=\"Streaming Stop Words\" -D mapreduce.job.reduces=${NUM_REDUCERS} \\\n",
    "    -files mapper.py,reducer.py,/datasets/stop_words_en.txt \\\n",
    "    -mapper \"python mapper.py\" \\\n",
    "    -reducer \"python reducer.py\" \\\n",
    "    -input /data/wiki/en_articles_part \\\n",
    "    -output ${OUT_DIR} > /dev/null 2> $LOGS\n",
    "    \n",
    "\n",
    "cat $LOGS | python2 ./counter_process.py \"Stop words\" \"Total words\"\n",
    "cat $LOGS >&2\n",
    "\n",
    "hdfs dfs -rm -r -skipTrash ${OUT_DIR} > /dev/null\n"
   ]
  },
  {
   "cell_type": "code",
   "execution_count": null,
   "metadata": {},
   "outputs": [],
   "source": []
  }
 ],
 "metadata": {
  "colab": {
   "collapsed_sections": [],
   "default_view": {},
   "name": "702_to_students.ipynb",
   "provenance": [],
   "version": "0.3.2",
   "views": {}
  },
  "kernelspec": {
   "display_name": "Python 2",
   "language": "python",
   "name": "python2"
  },
  "language_info": {
   "codemirror_mode": {
    "name": "ipython",
    "version": 2
   },
   "file_extension": ".py",
   "mimetype": "text/x-python",
   "name": "python",
   "nbconvert_exporter": "python",
   "pygments_lexer": "ipython2",
   "version": "2.7.12"
  }
 },
 "nbformat": 4,
 "nbformat_minor": 1
}
