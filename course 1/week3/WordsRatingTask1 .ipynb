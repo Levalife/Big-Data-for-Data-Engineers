{
 "cells": [
  {
   "cell_type": "markdown",
   "metadata": {
    "colab_type": "text",
    "id": "Ebk-YqgqEOw1"
   },
   "source": [
    "# Hadoop Streaming assignment 1: Words Rating"
   ]
  },
  {
   "cell_type": "markdown",
   "metadata": {
    "colab_type": "text",
    "id": "XDLjl7hGEOw2"
   },
   "source": [
    "The purpose of this task is to create your own WordCount program for Wikipedia dump processing and learn basic concepts of the MapReduce.\n",
    "\n",
    "In this task you have to find the 7th word by popularity and its quantity in the reverse order (most popular first) in Wikipedia data (`/data/wiki/en_articles_part`).\n",
    "\n",
    "There are several points for this task:\n",
    "\n",
    "1) As an output, you have to get the 7th word and its quantity separated by a tab character.\n",
    "\n",
    "2) You must use the second job to obtain a totally ordered result.\n",
    "\n",
    "3) Do not forget to redirect all trash and output to /dev/null.\n",
    "\n",
    "Here you can find the draft of the task main steps. You can use other methods for solution obtaining."
   ]
  },
  {
   "cell_type": "markdown",
   "metadata": {
    "colab_type": "text",
    "id": "lIUikVIDEOw2"
   },
   "source": [
    "## Step 1. Create mapper and reducer.\n",
    "\n",
    "<b>Hint:</b>  Demo task contains almost all the necessary pieces to complete this assignment. You may use the demo to implement the first MapReduce Job."
   ]
  },
  {
   "cell_type": "code",
   "execution_count": 1,
   "metadata": {
    "colab": {
     "autoexec": {
      "startup": false,
      "wait_interval": 0
     }
    },
    "colab_type": "code",
    "id": "A7T5mxDwEOw4"
   },
   "outputs": [
    {
     "name": "stdout",
     "output_type": "stream",
     "text": [
      "Writing mapper1.py\n"
     ]
    }
   ],
   "source": [
    "%%writefile mapper1.py\n",
    "\n",
    "import sys\n",
    "import re\n",
    "\n",
    "reload(sys)\n",
    "sys.setdefaultencoding('utf-8') # required to convert to unicode\n",
    "\n",
    "for line in sys.stdin:\n",
    "    try:\n",
    "        article_id, text = unicode(line.strip()).split('\\t', 1)\n",
    "    except ValueError as e:\n",
    "        continue\n",
    "    words = re.split(\"\\W*\\s+\\W*\", text, flags=re.UNICODE)\n",
    "    for word in words:\n",
    "        print >> sys.stderr, \"reporter:counter:Wiki stats,Total words,%d\" % 1\n",
    "        print \"%s\\t%d\" % (word.lower(), 1)\n",
    "        "
   ]
  },
  {
   "cell_type": "code",
   "execution_count": 2,
   "metadata": {
    "colab": {
     "autoexec": {
      "startup": false,
      "wait_interval": 0
     }
    },
    "colab_type": "code",
    "id": "oE8KFKqpEOw5"
   },
   "outputs": [
    {
     "name": "stdout",
     "output_type": "stream",
     "text": [
      "Writing reducer1.py\n"
     ]
    }
   ],
   "source": [
    "%%writefile reducer1.py\n",
    "\n",
    "import sys\n",
    "\n",
    "current_key = None\n",
    "word_sum = 0\n",
    "\n",
    "for line in sys.stdin:\n",
    "    try:\n",
    "        key, count = line.strip().split('\\t', 1)\n",
    "        count = int(count)\n",
    "    except ValueError as e:\n",
    "        continue\n",
    "    if current_key != key:\n",
    "        if current_key:\n",
    "            print \"%s\\t%d\" % (current_key, word_sum)\n",
    "        word_sum = 0\n",
    "        current_key = key\n",
    "    word_sum += count\n",
    "\n",
    "if current_key:\n",
    "    print \"%s\\t%d\" % (current_key, word_sum)"
   ]
  },
  {
   "cell_type": "code",
   "execution_count": 3,
   "metadata": {
    "colab": {
     "autoexec": {
      "startup": false,
      "wait_interval": 0
     }
    },
    "colab_type": "code",
    "id": "LJtc3_u0uXSz"
   },
   "outputs": [],
   "source": [
    "# You can use this cell for other experiments: for example, for combiner."
   ]
  },
  {
   "cell_type": "markdown",
   "metadata": {
    "colab_type": "text",
    "id": "KYZpcwY9EOw6"
   },
   "source": [
    "## Step 2. Create sort job.\n",
    "\n",
    "<b>Hint:</b> You may use MapReduce comparator to solve this step. Make sure that the keys are sorted in ascending order."
   ]
  },
  {
   "cell_type": "code",
   "execution_count": 27,
   "metadata": {
    "colab": {
     "autoexec": {
      "startup": false,
      "wait_interval": 0
     }
    },
    "colab_type": "code",
    "id": "g-NMzQ79EOw7"
   },
   "outputs": [
    {
     "name": "stdout",
     "output_type": "stream",
     "text": [
      "Overwriting mapper2.py\n"
     ]
    }
   ],
   "source": [
    "%%writefile mapper2.py\n",
    "# Your code for sort job here. Don't forget to use m%%writefile mapper2.py\n",
    "\n",
    "import sys\n",
    "\n",
    "reload(sys)\n",
    "sys.setdefaultencoding('utf-8')\n",
    "\n",
    "lines = []\n",
    "\n",
    "for line in sys.stdin:\n",
    "    \n",
    "    try:\n",
    "        key, count = line.strip().split('\\t', 1)\n",
    "        count = int(count)\n",
    "        lines.append((key, count))\n",
    "    except ValueError as e:\n",
    "        continue\n",
    "    \n",
    "sorted_pairs = sorted(lines, key=lambda k: k[1], reverse=True)\n",
    "    \n",
    "for pair in sorted_pairs:\n",
    "    print \"%s\\t%d\" % (pair[0], pair[1])\n",
    "    \n",
    "\n",
    "\n",
    "#for line in sys.stdin:\n",
    "    \n",
    "#    try:\n",
    "#        key, count = line.strip().split('\\t', 1)\n",
    "#        count = int(count)\n",
    "#        print \"%s\\t%d\" % (key, count)\n",
    "#    except ValueError as e:\n",
    "#        continue\n",
    "\n"
   ]
  },
  {
   "cell_type": "code",
   "execution_count": 15,
   "metadata": {
    "colab": {
     "autoexec": {
      "startup": false,
      "wait_interval": 0
     }
    },
    "colab_type": "code",
    "id": "qs6SKs7wO4be"
   },
   "outputs": [
    {
     "name": "stdout",
     "output_type": "stream",
     "text": [
      "Overwriting reducer2.py\n"
     ]
    }
   ],
   "source": [
    "%%writefile reducer2.py\n",
    "import sys\n",
    "\n",
    "reload(sys)\n",
    "sys.setdefaultencoding('utf-8')\n",
    "\n",
    "#lines = []\n",
    "\n",
    "#for line in sys.stdin:\n",
    "    \n",
    "#    try:\n",
    "#        key, count = line.strip().split('\\t', 1)\n",
    "#        count = int(count)\n",
    "#        lines.append((key, count))\n",
    "#    except ValueError as e:\n",
    "#        continue\n",
    "    \n",
    "#sorted_pairs = sorted(lines, key=lambda k: k[1], reverse=True)\n",
    "    \n",
    "#for pair in sorted_pairs:\n",
    "#    print \"%s.%d\" % (pair[0], pair[1])\n",
    "    \n",
    "\n",
    "\n",
    "#for line in sys.stdin:\n",
    "    \n",
    "    try:\n",
    "        key, count = line.strip().split('\\t', 1)\n",
    "        count = int(count)\n",
    "        print \"%s\\t%d\" % (key, count)\n",
    "    except ValueError as e:\n",
    "        continue\n",
    "\n",
    "    "
   ]
  },
  {
   "cell_type": "markdown",
   "metadata": {
    "colab_type": "text",
    "id": "4OBE81GZEOw8"
   },
   "source": [
    "## Step 3. Bash commands\n",
    "\n",
    "<b> Hint: </b> For printing the exact row you may use basic UNIX commands. For instance, sed/head/tail/... (if you know other commands, you can use them).\n",
    "\n",
    "To run both jobs, you must use two consecutive yarn-commands. Remember that the input for the second job is the ouput for the first job."
   ]
  },
  {
   "cell_type": "code",
   "execution_count": 39,
   "metadata": {
    "colab": {
     "autoexec": {
      "startup": false,
      "wait_interval": 0
     }
    },
    "colab_type": "code",
    "id": "1q9NczdIEOw9"
   },
   "outputs": [
    {
     "name": "stdout",
     "output_type": "stream",
     "text": [
      "is\t126420\n"
     ]
    },
    {
     "name": "stderr",
     "output_type": "stream",
     "text": [
      "rm: `assignment1_1549018965354308': No such file or directory\n",
      "19/02/01 11:02:48 INFO client.RMProxy: Connecting to ResourceManager at /0.0.0.0:8032\n",
      "19/02/01 11:02:49 INFO client.RMProxy: Connecting to ResourceManager at /0.0.0.0:8032\n",
      "19/02/01 11:02:49 INFO mapred.FileInputFormat: Total input files to process : 1\n",
      "19/02/01 11:02:49 INFO mapreduce.JobSubmitter: number of splits:2\n",
      "19/02/01 11:02:49 INFO mapreduce.JobSubmitter: Submitting tokens for job: job_1549016149173_0018\n",
      "19/02/01 11:02:50 INFO impl.YarnClientImpl: Submitted application application_1549016149173_0018\n",
      "19/02/01 11:02:50 INFO mapreduce.Job: The url to track the job: http://9a1c3d10e2c4:8088/proxy/application_1549016149173_0018/\n",
      "19/02/01 11:02:50 INFO mapreduce.Job: Running job: job_1549016149173_0018\n",
      "19/02/01 11:02:55 INFO mapreduce.Job: Job job_1549016149173_0018 running in uber mode : false\n",
      "19/02/01 11:02:55 INFO mapreduce.Job:  map 0% reduce 0%\n",
      "19/02/01 11:03:11 INFO mapreduce.Job:  map 33% reduce 0%\n",
      "19/02/01 11:03:17 INFO mapreduce.Job:  map 46% reduce 0%\n",
      "19/02/01 11:03:23 INFO mapreduce.Job:  map 50% reduce 0%\n",
      "19/02/01 11:03:29 INFO mapreduce.Job:  map 67% reduce 0%\n",
      "19/02/01 11:03:35 INFO mapreduce.Job:  map 100% reduce 0%\n",
      "19/02/01 11:03:40 INFO mapreduce.Job:  map 100% reduce 13%\n",
      "19/02/01 11:03:41 INFO mapreduce.Job:  map 100% reduce 25%\n",
      "19/02/01 11:03:42 INFO mapreduce.Job:  map 100% reduce 38%\n",
      "19/02/01 11:03:43 INFO mapreduce.Job:  map 100% reduce 50%\n",
      "19/02/01 11:03:44 INFO mapreduce.Job:  map 100% reduce 63%\n",
      "19/02/01 11:03:45 INFO mapreduce.Job:  map 100% reduce 88%\n",
      "19/02/01 11:03:46 INFO mapreduce.Job:  map 100% reduce 100%\n",
      "19/02/01 11:03:47 INFO mapreduce.Job: Job job_1549016149173_0018 completed successfully\n",
      "19/02/01 11:03:47 INFO mapreduce.Job: Counters: 51\n",
      "\tFile System Counters\n",
      "\t\tFILE: Number of bytes read=17954826\n",
      "\t\tFILE: Number of bytes written=28258123\n",
      "\t\tFILE: Number of read operations=0\n",
      "\t\tFILE: Number of large read operations=0\n",
      "\t\tFILE: Number of write operations=0\n",
      "\t\tHDFS: Number of bytes read=76874501\n",
      "\t\tHDFS: Number of bytes written=5370513\n",
      "\t\tHDFS: Number of read operations=30\n",
      "\t\tHDFS: Number of large read operations=0\n",
      "\t\tHDFS: Number of write operations=16\n",
      "\tJob Counters \n",
      "\t\tKilled reduce tasks=1\n",
      "\t\tLaunched map tasks=2\n",
      "\t\tLaunched reduce tasks=8\n",
      "\t\tData-local map tasks=2\n",
      "\t\tTotal time spent by all maps in occupied slots (ms)=75092\n",
      "\t\tTotal time spent by all reduces in occupied slots (ms)=21599\n",
      "\t\tTotal time spent by all map tasks (ms)=75092\n",
      "\t\tTotal time spent by all reduce tasks (ms)=21599\n",
      "\t\tTotal vcore-milliseconds taken by all map tasks=75092\n",
      "\t\tTotal vcore-milliseconds taken by all reduce tasks=21599\n",
      "\t\tTotal megabyte-milliseconds taken by all map tasks=76894208\n",
      "\t\tTotal megabyte-milliseconds taken by all reduce tasks=22117376\n",
      "\tMap-Reduce Framework\n",
      "\t\tMap input records=4100\n",
      "\t\tMap output records=11937375\n",
      "\t\tMap output bytes=97842436\n",
      "\t\tMap output materialized bytes=8952763\n",
      "\t\tInput split bytes=228\n",
      "\t\tCombine input records=11937375\n",
      "\t\tCombine output records=640011\n",
      "\t\tReduce input groups=427175\n",
      "\t\tReduce shuffle bytes=8952763\n",
      "\t\tReduce input records=640011\n",
      "\t\tReduce output records=427175\n",
      "\t\tSpilled Records=1920033\n",
      "\t\tShuffled Maps =16\n",
      "\t\tFailed Shuffles=0\n",
      "\t\tMerged Map outputs=16\n",
      "\t\tGC time elapsed (ms)=1251\n",
      "\t\tCPU time spent (ms)=134300\n",
      "\t\tPhysical memory (bytes) snapshot=2263281664\n",
      "\t\tVirtual memory (bytes) snapshot=20221960192\n",
      "\t\tTotal committed heap usage (bytes)=1558708224\n",
      "\tShuffle Errors\n",
      "\t\tBAD_ID=0\n",
      "\t\tCONNECTION=0\n",
      "\t\tIO_ERROR=0\n",
      "\t\tWRONG_LENGTH=0\n",
      "\t\tWRONG_MAP=0\n",
      "\t\tWRONG_REDUCE=0\n",
      "\tWiki stats\n",
      "\t\tTotal words=11937375\n",
      "\tFile Input Format Counters \n",
      "\t\tBytes Read=76874273\n",
      "\tFile Output Format Counters \n",
      "\t\tBytes Written=5370513\n",
      "19/02/01 11:03:47 INFO streaming.StreamJob: Output directory: assignment1_1549018965354308\n",
      "19/02/01 11:03:49 INFO client.RMProxy: Connecting to ResourceManager at /0.0.0.0:8032\n",
      "19/02/01 11:03:49 INFO client.RMProxy: Connecting to ResourceManager at /0.0.0.0:8032\n",
      "19/02/01 11:03:50 INFO mapred.FileInputFormat: Total input files to process : 8\n",
      "19/02/01 11:03:50 INFO mapreduce.JobSubmitter: number of splits:8\n",
      "19/02/01 11:03:50 INFO mapreduce.JobSubmitter: Submitting tokens for job: job_1549016149173_0019\n",
      "19/02/01 11:03:50 INFO impl.YarnClientImpl: Submitted application application_1549016149173_0019\n",
      "19/02/01 11:03:50 INFO mapreduce.Job: The url to track the job: http://9a1c3d10e2c4:8088/proxy/application_1549016149173_0019/\n",
      "19/02/01 11:03:50 INFO mapreduce.Job: Running job: job_1549016149173_0019\n",
      "19/02/01 11:03:58 INFO mapreduce.Job: Job job_1549016149173_0019 running in uber mode : false\n",
      "19/02/01 11:03:58 INFO mapreduce.Job:  map 0% reduce 0%\n",
      "19/02/01 11:04:03 INFO mapreduce.Job:  map 75% reduce 0%\n",
      "19/02/01 11:04:06 INFO mapreduce.Job:  map 100% reduce 0%\n",
      "19/02/01 11:04:10 INFO mapreduce.Job:  map 100% reduce 100%\n",
      "19/02/01 11:04:10 INFO mapreduce.Job: Job job_1549016149173_0019 completed successfully\n",
      "19/02/01 11:04:10 INFO mapreduce.Job: Counters: 49\n",
      "\tFile System Counters\n",
      "\t\tFILE: Number of bytes read=6224888\n",
      "\t\tFILE: Number of bytes written=13710276\n",
      "\t\tFILE: Number of read operations=0\n",
      "\t\tFILE: Number of large read operations=0\n",
      "\t\tFILE: Number of write operations=0\n",
      "\t\tHDFS: Number of bytes read=5371513\n",
      "\t\tHDFS: Number of bytes written=5370513\n",
      "\t\tHDFS: Number of read operations=27\n",
      "\t\tHDFS: Number of large read operations=0\n",
      "\t\tHDFS: Number of write operations=2\n",
      "\tJob Counters \n",
      "\t\tLaunched map tasks=8\n",
      "\t\tLaunched reduce tasks=1\n",
      "\t\tData-local map tasks=8\n",
      "\t\tTotal time spent by all maps in occupied slots (ms)=24033\n",
      "\t\tTotal time spent by all reduces in occupied slots (ms)=3908\n",
      "\t\tTotal time spent by all map tasks (ms)=24033\n",
      "\t\tTotal time spent by all reduce tasks (ms)=3908\n",
      "\t\tTotal vcore-milliseconds taken by all map tasks=24033\n",
      "\t\tTotal vcore-milliseconds taken by all reduce tasks=3908\n",
      "\t\tTotal megabyte-milliseconds taken by all map tasks=24609792\n",
      "\t\tTotal megabyte-milliseconds taken by all reduce tasks=4001792\n",
      "\tMap-Reduce Framework\n",
      "\t\tMap input records=427175\n",
      "\t\tMap output records=427175\n",
      "\t\tMap output bytes=5370522\n",
      "\t\tMap output materialized bytes=6224930\n",
      "\t\tInput split bytes=1000\n",
      "\t\tCombine input records=0\n",
      "\t\tCombine output records=0\n",
      "\t\tReduce input groups=427175\n",
      "\t\tReduce shuffle bytes=6224930\n",
      "\t\tReduce input records=427175\n",
      "\t\tReduce output records=427175\n",
      "\t\tSpilled Records=854350\n",
      "\t\tShuffled Maps =8\n",
      "\t\tFailed Shuffles=0\n",
      "\t\tMerged Map outputs=8\n",
      "\t\tGC time elapsed (ms)=939\n",
      "\t\tCPU time spent (ms)=15550\n",
      "\t\tPhysical memory (bytes) snapshot=2477060096\n",
      "\t\tVirtual memory (bytes) snapshot=18088607744\n",
      "\t\tTotal committed heap usage (bytes)=1751121920\n",
      "\tShuffle Errors\n",
      "\t\tBAD_ID=0\n",
      "\t\tCONNECTION=0\n",
      "\t\tIO_ERROR=0\n",
      "\t\tWRONG_LENGTH=0\n",
      "\t\tWRONG_MAP=0\n",
      "\t\tWRONG_REDUCE=0\n",
      "\tFile Input Format Counters \n",
      "\t\tBytes Read=5370513\n",
      "\tFile Output Format Counters \n",
      "\t\tBytes Written=5370513\n",
      "19/02/01 11:04:10 INFO streaming.StreamJob: Output directory: assignment1_final_1549019027987399\n",
      "cat: Unable to write to output stream.\n"
     ]
    }
   ],
   "source": [
    "%%bash\n",
    "\n",
    "OUT_DIR=\"assignment1_\"$(date +\"%s%6N\")\n",
    "#OUT_DIR=\"assignment1_1549016700915885\"\n",
    "NUM_REDUCERS=8\n",
    "\n",
    "hdfs dfs -rm -r -skipTrash ${OUT_DIR} > /dev/null\n",
    "# Code for your first job\n",
    "# yarn jar /opt/cloudera/parcels/CDH/lib/hadoop-mapreduce/hadoop-streaming.jar ...\n",
    "\n",
    "yarn jar /opt/cloudera/parcels/CDH/lib/hadoop-mapreduce/hadoop-streaming.jar \\\n",
    "    -D mapred.jab.name=\"Streaming wordCount\" \\\n",
    "    -D mapreduce.job.reduces=${NUM_REDUCERS} \\\n",
    "    -files mapper1.py,reducer1.py \\\n",
    "    -mapper \"python mapper1.py\" \\\n",
    "    -combiner \"python reducer1.py\" \\\n",
    "    -reducer \"python reducer1.py\" \\\n",
    "    -input /data/wiki/en_articles_part \\\n",
    "    -output ${OUT_DIR} > /dev/null\n",
    "    \n",
    "OUT_DIR2=\"assignment1_final_\"$(date +\"%s%6N\")\n",
    "# Code for your second job\n",
    "# yarn jar /opt/cloudera/parcels/CDH/lib/hadoop-mapreduce/hadoop-streaming.jar ...\n",
    "yarn jar /opt/cloudera/parcels/CDH/lib/hadoop-mapreduce/hadoop-streaming.jar \\\n",
    "    -D mapreduce.job.output.key.comparator.class=org.apache.hadoop.mapreduce.lib.partition.KeyFieldBasedComparator \\\n",
    "    -D mapreduce.partition.keycomparator.options=\"-k2nr\" \\\n",
    "    -D mapred.jab.name=\"Streaming wordCount 2\" \\\n",
    "    -D mapreduce.job.reduces=1 \\\n",
    "    -files mapper2.py,reducer2.py \\\n",
    "    -mapper \"python mapper2.py\" \\\n",
    "    -reducer \"python mapper2.py\" \\\n",
    "    -input ${OUT_DIR} -output ${OUT_DIR2} > /dev/null\n",
    "\n",
    "    #-D mapreduce.job.output.key.comparator.class=org.apache.hadoop.mapreduce.lib.partition.KeyFieldBasedComparator \\\n",
    "    #-D mapred.text.key.comparator.options=\"-k2nr\" \\\n",
    "\n",
    "    #-D mapreduce.map.output.key.field.separator=. \\\n",
    "    #-D mapreduce.partition.keycomparator.options=\"-k2nr\" \\\n",
    "    #-D stream.map.output.field.separator=. \\\n",
    "    #-D stream.num.map.output.key.fields=1 \\\n",
    "\n",
    "\n",
    "\n",
    "# Code for obtaining the results\n",
    "hdfs dfs -cat ${OUT_DIR2}/part-00000 | sed -n '7p;8q'\n",
    "hdfs dfs -rm -r -skipTrash ${OUT_DIR}* > /dev/null"
   ]
  },
  {
   "cell_type": "code",
   "execution_count": 41,
   "metadata": {},
   "outputs": [
    {
     "name": "stdout",
     "output_type": "stream",
     "text": [
      "the\t822164\r\n",
      "of\t447464\r\n",
      "and\t342715\r\n",
      "in\t292354\r\n",
      "to\t241467\r\n",
      "a\t236225\r\n",
      "is\t126420\r\n",
      "as\t103301\r\n",
      "for\t91245\r\n",
      "was\t90336\r\n",
      "by\t85781\r\n",
      "that\t81572\r\n",
      "with\t79559\r\n",
      "on\t71710\r\n",
      "from\t58201\r\n",
      "are\t57416\r\n",
      "it\t49620\r\n",
      "or\t49404\r\n",
      "an\t46431\r\n",
      "his\t45001\r\n",
      "cat: Unable to write to output stream.\r\n"
     ]
    }
   ],
   "source": []
  },
  {
   "cell_type": "code",
   "execution_count": 29,
   "metadata": {},
   "outputs": [
    {
     "name": "stdout",
     "output_type": "stream",
     "text": [
      "monopolise\t2\r\n",
      "monopolised\t2\r\n",
      "monopolists\t2\r\n",
      "monostatic\t2\r\n",
      "monoxide's\t2\r\n",
      "montand's\t2\r\n",
      "month_type\t2\r\n",
      "moon’s\t2\r\n",
      "moor's\t2\r\n",
      "monkeemania\t2\r\n",
      "monologist\t2\r\n",
      "mootz\t2\r\n",
      "moraxella\t2\r\n",
      "moinuddin\t2\r\n",
      "moiré\t2\r\n",
      "moisture/density\t2\r\n",
      "mol/kg\t2\r\n",
      "molecule(s\t2\r\n",
      "molinos\t2\r\n",
      "mondsee\t2\r\n",
      "cat: Unable to write to output stream.\r\n"
     ]
    }
   ],
   "source": []
  },
  {
   "cell_type": "code",
   "execution_count": null,
   "metadata": {},
   "outputs": [],
   "source": []
  }
 ],
 "metadata": {
  "colab": {
   "collapsed_sections": [],
   "default_view": {},
   "name": "701_to_students.ipynb",
   "provenance": [],
   "version": "0.3.2",
   "views": {}
  },
  "kernelspec": {
   "display_name": "Python 2",
   "language": "python",
   "name": "python2"
  },
  "language_info": {
   "codemirror_mode": {
    "name": "ipython",
    "version": 2
   },
   "file_extension": ".py",
   "mimetype": "text/x-python",
   "name": "python",
   "nbconvert_exporter": "python",
   "pygments_lexer": "ipython2",
   "version": "2.7.12"
  }
 },
 "nbformat": 4,
 "nbformat_minor": 1
}
