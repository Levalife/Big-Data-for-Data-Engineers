{
 "cells": [
  {
   "cell_type": "code",
   "execution_count": 39,
   "metadata": {},
   "outputs": [],
   "source": [
    "from pyspark.sql import SparkSession\n",
    "sparkSession = SparkSession.builder.enableHiveSupport().master(\"local\").getOrCreate()"
   ]
  },
  {
   "cell_type": "code",
   "execution_count": 40,
   "metadata": {},
   "outputs": [],
   "source": [
    "data = sparkSession.read.parquet(\"/data/sample264\")\n",
    "meta = sparkSession.read.parquet(\"/data/meta\")\n",
    "\n",
    "from pyspark.sql import Window\n",
    "from pyspark.sql.functions import row_number, col, rank, when, sum, abs, count"
   ]
  },
  {
   "cell_type": "code",
   "execution_count": 17,
   "metadata": {},
   "outputs": [],
   "source": [
    "\n",
    "import datetime\n",
    "track_pairs = data.alias(\"df1\").join(data.alias(\"df2\"), \"userId\", \"inner\")\\\n",
    "                               .filter(\"df1.trackId <> df2.trackId\")\\\n",
    "                               .select(col(\"df1.trackId\").alias(\"id1\"), col(\"df2.trackId\").alias(\"id2\"),\n",
    "                                       ((col(\"df2.timestamp\") - col(\"df1.timestamp\"))/60).alias(\"timeDif\"))\\"
   ]
  },
  {
   "cell_type": "code",
   "execution_count": 18,
   "metadata": {},
   "outputs": [],
   "source": [
    "track_pairs_weights = track_pairs.select(\"id1\", \"id2\",\n",
    "                                         (when(abs(col(\"timeDif\")) < 7, 1).otherwise(0)).alias(\"weight\"))\\\n",
    "                                 .groupBy(\"id1\", \"id2\")\\\n",
    "                                 .agg(sum(\"weight\").alias(\"weights\"))\\\n",
    "                                 .filter(col(\"weights\")>0)"
   ]
  },
  {
   "cell_type": "code",
   "execution_count": 19,
   "metadata": {},
   "outputs": [],
   "source": [
    "def norm(df, key1, field, n): \n",
    "    \n",
    "    window = Window.partitionBy(key1).orderBy(col(key1), col(field).desc()) \n",
    "    \n",
    "    topsDF = df.select(\"*\", row_number().over(window).alias(\"row_number\"))\\\n",
    "                                    .filter(col(\"row_number\") < n)\\\n",
    "                                    .drop(col(\"row_number\"))\n",
    "            \n",
    "    tmpDF = topsDF.groupBy(col(key1))\\\n",
    "                              .agg(sum(field).alias(\"total_\" + field))\n",
    "        \n",
    "    normalizedDF = topsDF.join(tmpDF, key1, \"inner\")\\\n",
    "                         .withColumn(\"norm_\" + field, col(field)/col(\"total_\" + field))\n",
    "                \n",
    "\n",
    "    return normalizedDF"
   ]
  },
  {
   "cell_type": "code",
   "execution_count": 20,
   "metadata": {},
   "outputs": [],
   "source": [
    "normilized_weights = norm(track_pairs_weights, 'id1', \"weights\", 51)"
   ]
  },
  {
   "cell_type": "code",
   "execution_count": null,
   "metadata": {},
   "outputs": [],
   "source": [
    "result = normilized_weights.orderBy(col(\"norm_weights\").desc(), col(\"id1\"), col(\"id2\"))\\\n",
    "                            .select(\"id1\", \"id2\")\\\n",
    "                            .take(40)"
   ]
  },
  {
   "cell_type": "code",
   "execution_count": null,
   "metadata": {},
   "outputs": [
    {
     "name": "stdout",
     "output_type": "stream",
     "text": [
      "798256 923706\n",
      "798319 837992\n",
      "798322 876562\n",
      "798331 827364\n",
      "798335 840741\n",
      "798374 816874\n",
      "798375 810685\n",
      "798379 812055\n",
      "798380 840113\n",
      "798396 817687\n",
      "798398 926302\n",
      "798405 867217\n",
      "798443 905923\n",
      "798457 918918\n",
      "798460 891840\n",
      "798461 940379\n",
      "798470 840814\n",
      "798474 963162\n",
      "798477 883244\n",
      "798485 955521\n",
      "798505 905671\n",
      "798550 936295\n",
      "798626 845438\n",
      "798691 818279\n",
      "798692 898823\n",
      "798702 811440\n",
      "798704 937570\n",
      "798725 933147\n",
      "798738 894170\n",
      "798745 799665\n",
      "798782 956938\n",
      "798801 950802\n",
      "798820 890393\n",
      "798833 916319\n",
      "798865 962662\n",
      "798931 893574\n",
      "798946 946408\n",
      "799012 809997\n",
      "799024 935246\n",
      "799047 905199\n"
     ]
    }
   ],
   "source": [
    "#for val in result:\n",
    "#    print(\"%s %s\" % val)"
   ]
  },
  {
   "cell_type": "code",
   "execution_count": null,
   "metadata": {},
   "outputs": [],
   "source": []
  },
  {
   "cell_type": "code",
   "execution_count": 89,
   "metadata": {},
   "outputs": [],
   "source": [
    "userTrack = data.groupBy(\"userId\", \"trackId\")\\\n",
    "                .agg(count('*').alias(\"weight\"))"
   ]
  },
  {
   "cell_type": "code",
   "execution_count": 98,
   "metadata": {},
   "outputs": [],
   "source": [
    "result2 = norm(userTrack, \"userId\", \"weight\", 1001).orderBy(col(\"norm_weight\").desc(), \n",
    "                                                            col(\"userId\"), \n",
    "                                                            col(\"trackId\"))\\\n",
    "                                                   .select(col(\"userId\"), col(\"trackId\"))\\\n",
    "                                                   .take(40)"
   ]
  },
  {
   "cell_type": "code",
   "execution_count": 99,
   "metadata": {},
   "outputs": [
    {
     "name": "stdout",
     "output_type": "stream",
     "text": [
      "66 965774\n",
      "116 867268\n",
      "128 852564\n",
      "131 880170\n",
      "195 946408\n",
      "215 860111\n",
      "235 897176\n",
      "300 857973\n",
      "321 915545\n",
      "328 943482\n",
      "333 818202\n",
      "346 864911\n",
      "356 961308\n",
      "428 943572\n",
      "431 902497\n",
      "445 831381\n",
      "488 841340\n",
      "542 815388\n",
      "617 946395\n",
      "649 901672\n",
      "658 937522\n",
      "662 881433\n",
      "698 935934\n",
      "708 952432\n",
      "746 879259\n",
      "747 879259\n",
      "776 946408\n",
      "784 806468\n",
      "806 866581\n",
      "811 948017\n",
      "837 799685\n",
      "901 871513\n",
      "923 879322\n",
      "934 940714\n",
      "957 945183\n",
      "989 878364\n",
      "999 967768\n",
      "1006 962774\n",
      "1049 849484\n",
      "1057 920458\n"
     ]
    }
   ],
   "source": [
    "#for val in result2:\n",
    "#    print(\"%s %s\" % val)"
   ]
  },
  {
   "cell_type": "code",
   "execution_count": 23,
   "metadata": {},
   "outputs": [],
   "source": [
    "userArtist = data.groupBy(\"userId\", \"artistId\")\\\n",
    "                .agg(count('*').alias(\"weight\"))"
   ]
  },
  {
   "cell_type": "code",
   "execution_count": 25,
   "metadata": {},
   "outputs": [],
   "source": [
    "result3 = norm(userArtist, \"userId\", \"weight\", 101).orderBy(col(\"norm_weight\").desc(), \n",
    "                                                            col(\"userId\"), \n",
    "                                                            col(\"artistId\"))\\\n",
    "                                                   .select(col(\"userId\"), col(\"artistId\"))\\\n",
    "                                                   .take(40)"
   ]
  },
  {
   "cell_type": "code",
   "execution_count": 26,
   "metadata": {},
   "outputs": [
    {
     "name": "stdout",
     "output_type": "stream",
     "text": [
      "66 993426\n",
      "116 974937\n",
      "128 1003021\n",
      "131 983068\n",
      "195 997265\n",
      "215 991696\n",
      "235 990642\n",
      "288 1000564\n",
      "300 1003362\n",
      "321 986172\n",
      "328 967986\n",
      "333 1000416\n",
      "346 982037\n",
      "356 974846\n",
      "374 1003167\n",
      "428 993161\n",
      "431 969340\n",
      "445 970387\n",
      "488 970525\n",
      "542 969751\n",
      "612 987351\n",
      "617 970240\n",
      "649 973851\n",
      "658 973232\n",
      "662 975279\n",
      "698 995788\n",
      "708 968848\n",
      "746 972032\n",
      "747 972032\n",
      "776 997265\n",
      "784 969853\n",
      "806 995126\n",
      "811 996436\n",
      "837 989262\n",
      "901 988199\n",
      "923 977066\n",
      "934 990860\n",
      "957 991171\n",
      "989 975339\n",
      "999 968823\n"
     ]
    }
   ],
   "source": [
    "#for val in result3:\n",
    "#    print(\"%s %s\" % val)"
   ]
  },
  {
   "cell_type": "code",
   "execution_count": 28,
   "metadata": {},
   "outputs": [],
   "source": [
    "artistTrack = data.groupBy(\"artistId\", \"trackId\")\\\n",
    "                .agg(count('*').alias(\"weight\"))"
   ]
  },
  {
   "cell_type": "code",
   "execution_count": 30,
   "metadata": {},
   "outputs": [],
   "source": [
    "result4 = norm(artistTrack, \"artistId\", \"weight\", 101).orderBy(col(\"norm_weight\").desc(), \n",
    "                                                            col(\"artistId\"), \n",
    "                                                            col(\"trackId\"))\\\n",
    "                                                   .select(col(\"artistId\"), col(\"trackId\"))\\\n",
    "                                                   .take(40)"
   ]
  },
  {
   "cell_type": "code",
   "execution_count": 31,
   "metadata": {},
   "outputs": [
    {
     "name": "stdout",
     "output_type": "stream",
     "text": [
      "967993 869415\n",
      "967998 947428\n",
      "968004 927380\n",
      "968017 859321\n",
      "968022 852786\n",
      "968034 807671\n",
      "968038 964150\n",
      "968042 835935\n",
      "968043 913568\n",
      "968046 935077\n",
      "968047 806127\n",
      "968065 907906\n",
      "968073 964586\n",
      "968086 813446\n",
      "968092 837129\n",
      "968118 914441\n",
      "968125 821410\n",
      "968140 953008\n",
      "968148 877445\n",
      "968161 809793\n",
      "968163 803065\n",
      "968168 876119\n",
      "968189 858639\n",
      "968221 896937\n",
      "968224 892880\n",
      "968232 825536\n",
      "968237 932845\n",
      "968238 939177\n",
      "968241 879045\n",
      "968242 911250\n",
      "968248 953554\n",
      "968255 808494\n",
      "968259 880230\n",
      "968265 950148\n",
      "968266 824437\n",
      "968269 913243\n",
      "968272 816049\n",
      "968278 946743\n",
      "968285 847460\n",
      "968286 940006\n"
     ]
    }
   ],
   "source": [
    "#for val in result4:\n",
    "#    print(\"%s %s\" % val)"
   ]
  },
  {
   "cell_type": "code",
   "execution_count": null,
   "metadata": {},
   "outputs": [],
   "source": [
    "userId = 776748\n",
    "userTracks = data.filter(col(\"userId\")==userId)\\\n",
    "                  .join(meta, col(\"trackId\")==col(\"Id\") ,\"inner\")\\\n",
    "                  .select(\"Artist\", \"Name\")\n",
    "userArtists = data.filter(col(\"userId\")==userId)\\\n",
    "                  .join(meta, col(\"artistId\")==col(\"Id\") ,\"inner\")\\\n",
    "                  .select(\"Artist\", \"Name\")\n",
    "result5 = userTracks.union(userArtists)\\\n",
    "                    .orderBy(\"Artist\", \"Name\")\\\n",
    "                    .distinct().take(40)"
   ]
  },
  {
   "cell_type": "code",
   "execution_count": null,
   "metadata": {},
   "outputs": [],
   "source": [
    "for value in result5:\n",
    "    print(\"%s %s\" % value)"
   ]
  },
  {
   "cell_type": "code",
   "execution_count": null,
   "metadata": {},
   "outputs": [],
   "source": []
  }
 ],
 "metadata": {
  "kernelspec": {
   "display_name": "Python 3",
   "language": "python",
   "name": "python3"
  },
  "language_info": {
   "codemirror_mode": {
    "name": "ipython",
    "version": 3
   },
   "file_extension": ".py",
   "mimetype": "text/x-python",
   "name": "python",
   "nbconvert_exporter": "python",
   "pygments_lexer": "ipython3",
   "version": "3.6.2"
  }
 },
 "nbformat": 4,
 "nbformat_minor": 2
}
