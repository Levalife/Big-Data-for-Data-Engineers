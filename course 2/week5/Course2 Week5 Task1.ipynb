{
 "cells": [
  {
   "cell_type": "code",
   "execution_count": 76,
   "metadata": {},
   "outputs": [],
   "source": [
    "from pyspark.sql import SparkSession\n",
    "sparkSession = SparkSession.builder.enableHiveSupport().master(\"local\").getOrCreate()"
   ]
  },
  {
   "cell_type": "code",
   "execution_count": 77,
   "metadata": {},
   "outputs": [],
   "source": [
    "data = sparkSession.read.parquet(\"/data/sample264\")\n",
    "meta = sparkSession.read.parquet(\"/data/meta\")"
   ]
  },
  {
   "cell_type": "code",
   "execution_count": 78,
   "metadata": {},
   "outputs": [],
   "source": [
    "from pyspark.sql import Window\n",
    "from pyspark.sql.functions import row_number, col, rank, when, sum, abs\n",
    "import datetime\n",
    "track_pairs = data.alias(\"df1\").join(data.alias(\"df2\"), \"userId\", \"inner\")\\\n",
    "                               .filter(\"df1.trackId <> df2.trackId\")\\\n",
    "                               .select(col(\"df1.trackId\").alias(\"id1\"), col(\"df2.trackId\").alias(\"id2\"),\n",
    "                                       ((col(\"df2.timestamp\") - col(\"df1.timestamp\"))/60).alias(\"timeDif\"))\\"
   ]
  },
  {
   "cell_type": "code",
   "execution_count": 79,
   "metadata": {},
   "outputs": [],
   "source": [
    "track_pairs_weights = track_pairs.select(\"id1\", \"id2\",\n",
    "                                         (when(abs(col(\"timeDif\")) < 7, 1).otherwise(0)).alias(\"weight\"))\\\n",
    "                                 .groupBy(\"id1\", \"id2\")\\\n",
    "                                 .agg(sum(\"weight\").alias(\"weights\"))\\\n",
    "                                 .filter(col(\"weights\")>0)"
   ]
  },
  {
   "cell_type": "code",
   "execution_count": 80,
   "metadata": {},
   "outputs": [],
   "source": [
    "def norm(df, key1, n): \n",
    "    \n",
    "    window = Window.partitionBy(\"id1\").orderBy(col(\"id1\"),col(\"weights\").desc()) \n",
    "    \n",
    "    topsDf = df.select(\"*\", row_number().over(window).alias(\"row_number\"))\\\n",
    "                                    .filter(col(\"row_number\") < n)\\\n",
    "                                    .drop(col(\"row_number\"))\n",
    "            \n",
    "    sumOfTrackWeights = topsDf.groupBy(col(\"id1\"))\\\n",
    "                              .agg(sum(\"weights\").alias(\"total_weights\"))\n",
    "        \n",
    "    normalizedDF = topsDf.join(sumOfTrackWeights, key1, \"inner\")\\\n",
    "                         .withColumn(\"norm_weights\", col(\"weights\")/col(\"total_weights\"))\n",
    "                \n",
    "\n",
    "    return normalizedDF"
   ]
  },
  {
   "cell_type": "code",
   "execution_count": 81,
   "metadata": {},
   "outputs": [],
   "source": [
    "normilized_weights = norm(track_pairs_weights, 'id1', 51)"
   ]
  },
  {
   "cell_type": "code",
   "execution_count": 82,
   "metadata": {},
   "outputs": [],
   "source": [
    "result = normilized_weights.orderBy(col(\"norm_weights\").desc(), col(\"id1\"), col(\"id2\"))\\\n",
    "                            .select(\"id1\", \"id2\")\\\n",
    "                            .take(40)"
   ]
  },
  {
   "cell_type": "code",
   "execution_count": 83,
   "metadata": {},
   "outputs": [
    {
     "name": "stdout",
     "output_type": "stream",
     "text": [
      "943060 906644\n",
      "916106 917005\n",
      "966277 848609\n",
      "906644 943060\n",
      "957991 930935\n",
      "924333 871513\n",
      "833441 946677\n",
      "826881 848807\n",
      "924085 907245\n",
      "912219 934393\n",
      "820030 917240\n",
      "832462 887023\n",
      "913080 949890\n",
      "802110 810825\n",
      "875978 896805\n",
      "900521 904430\n",
      "910631 941522\n",
      "914119 875262\n",
      "936520 846587\n",
      "799433 936403\n",
      "822869 807426\n",
      "878315 881915\n",
      "882619 831384\n",
      "894756 936409\n",
      "930544 804125\n",
      "901112 874270\n",
      "810938 938608\n",
      "836133 834366\n",
      "860070 834845\n",
      "864928 858352\n",
      "906140 837660\n",
      "911867 867312\n",
      "917702 902978\n",
      "947006 953666\n",
      "962689 946994\n",
      "963056 854480\n",
      "866447 932601\n",
      "846523 798768\n",
      "800639 936092\n",
      "803925 877664\n"
     ]
    }
   ],
   "source": [
    "for val in result:\n",
    "    print(\"%s %s\" % val)"
   ]
  },
  {
   "cell_type": "code",
   "execution_count": null,
   "metadata": {},
   "outputs": [],
   "source": []
  }
 ],
 "metadata": {
  "kernelspec": {
   "display_name": "Python 3",
   "language": "python",
   "name": "python3"
  },
  "language_info": {
   "codemirror_mode": {
    "name": "ipython",
    "version": 3
   },
   "file_extension": ".py",
   "mimetype": "text/x-python",
   "name": "python",
   "nbconvert_exporter": "python",
   "pygments_lexer": "ipython3",
   "version": "3.6.2"
  }
 },
 "nbformat": 4,
 "nbformat_minor": 2
}
