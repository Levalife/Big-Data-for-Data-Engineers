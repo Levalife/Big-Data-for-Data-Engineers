{
 "cells": [
  {
   "cell_type": "code",
   "execution_count": 1,
   "metadata": {},
   "outputs": [],
   "source": [
    "from pyspark.sql import SparkSession\n",
    "sparkSession = SparkSession.builder.enableHiveSupport().master(\"local\").getOrCreate()\n"
   ]
  },
  {
   "cell_type": "code",
   "execution_count": 2,
   "metadata": {},
   "outputs": [],
   "source": [
    "data = sparkSession.read.parquet(\"/data/sample264\")\n",
    "meta = sparkSession.read.parquet(\"/data/meta\")\n",
    "\n",
    "from pyspark.sql import Window\n",
    "from pyspark.sql.functions import row_number, col, rank, when, sum, abs, count, lit, round\n",
    "\n",
    "beta_user_artist = 0.5\n",
    "beta_user_track = 0.5\n",
    "beta_track_track = 1\n",
    "beta_artist_track = 1\n",
    "alpha = 0.15"
   ]
  },
  {
   "cell_type": "code",
   "execution_count": 3,
   "metadata": {},
   "outputs": [],
   "source": [
    "import datetime\n",
    "track_pairs = data.alias(\"df1\").join(data.alias(\"df2\"), \"userId\", \"inner\")\\\n",
    "                               .filter(\"df1.trackId <> df2.trackId\")\\\n",
    "                               .select(col(\"df1.trackId\").alias(\"id1\"), col(\"df2.trackId\").alias(\"id2\"),\n",
    "                                       ((col(\"df2.timestamp\") - col(\"df1.timestamp\"))/60).alias(\"timeDif\"))\\"
   ]
  },
  {
   "cell_type": "code",
   "execution_count": 4,
   "metadata": {},
   "outputs": [],
   "source": [
    "track_pairs_weights = track_pairs.select(\"id1\", \"id2\",\n",
    "                                         (when(abs(col(\"timeDif\")) < 7, 1).otherwise(0)).alias(\"weight\"))\\\n",
    "                                 .groupBy(\"id1\", \"id2\")\\\n",
    "                                 .agg(sum(\"weight\").alias(\"weights\"))\\\n",
    "                                 .filter(col(\"weights\")>0)"
   ]
  },
  {
   "cell_type": "code",
   "execution_count": 5,
   "metadata": {},
   "outputs": [],
   "source": [
    "def norm(df, key1, field, n): \n",
    "    \n",
    "    window = Window.partitionBy(key1).orderBy(col(key1), col(field).desc()) \n",
    "    \n",
    "    topsDF = df.select(\"*\", row_number().over(window).alias(\"row_number\"))\\\n",
    "                                    .filter(col(\"row_number\") < n)\\\n",
    "                                    .drop(col(\"row_number\"))\n",
    "            \n",
    "    tmpDF = topsDF.groupBy(col(key1))\\\n",
    "                              .agg(sum(field).alias(\"total_\" + field))\n",
    "        \n",
    "    normalizedDF = topsDF.join(tmpDF, key1, \"inner\")\\\n",
    "                         .withColumn(\"norm_\" + field, col(field)/col(\"total_\" + field))\n",
    "                \n",
    "\n",
    "    return normalizedDF"
   ]
  },
  {
   "cell_type": "code",
   "execution_count": 6,
   "metadata": {},
   "outputs": [],
   "source": [
    "normilized_weights = norm(track_pairs_weights, 'id1', \"weights\", 51)"
   ]
  },
  {
   "cell_type": "code",
   "execution_count": 7,
   "metadata": {},
   "outputs": [],
   "source": [
    "track_track = normilized_weights.orderBy(col(\"norm_weights\").desc(), col(\"id1\"), col(\"id2\"))\\\n",
    "                            .withColumn(\"beta_weight\", col(\"norm_weights\") * beta_track_track)\\\n",
    "                            .select(\"id1\", \"id2\", \"beta_weight\")\n",
    "                           "
   ]
  },
  {
   "cell_type": "code",
   "execution_count": 8,
   "metadata": {},
   "outputs": [],
   "source": [
    "userTrack = data.groupBy(\"userId\", \"trackId\")\\\n",
    "                .agg(count('*').alias(\"weight\"))"
   ]
  },
  {
   "cell_type": "code",
   "execution_count": 9,
   "metadata": {},
   "outputs": [],
   "source": [
    "user_track = norm(userTrack, \"userId\", \"weight\", 1001).orderBy(col(\"norm_weight\").desc(), \n",
    "                                                            col(\"userId\"), \n",
    "                                                            col(\"trackId\"))\\\n",
    "                                                   .withColumn(\"beta_weight\", col(\"norm_weight\") * beta_user_track)\\\n",
    "                                                   .select(col(\"userId\").alias(\"id1\"), col(\"trackId\").alias(\"id2\"),\n",
    "                                                          \"beta_weight\")"
   ]
  },
  {
   "cell_type": "code",
   "execution_count": 10,
   "metadata": {},
   "outputs": [],
   "source": [
    "userArtist = data.groupBy(\"userId\", \"artistId\")\\\n",
    "                .agg(count('*').alias(\"weight\"))"
   ]
  },
  {
   "cell_type": "code",
   "execution_count": 11,
   "metadata": {},
   "outputs": [],
   "source": [
    "user_artist = norm(userArtist, \"userId\", \"weight\", 101).orderBy(col(\"norm_weight\").desc(), \n",
    "                                                            col(\"userId\"), \n",
    "                                                            col(\"artistId\"))\\\n",
    "                                                   .withColumn(\"beta_weight\", col(\"norm_weight\") * beta_user_artist)\\\n",
    "                                                   .select(col(\"userId\").alias(\"id1\"), col(\"artistId\").alias(\"id2\"),\n",
    "                                                          \"beta_weight\")\n",
    "                                                   "
   ]
  },
  {
   "cell_type": "code",
   "execution_count": 12,
   "metadata": {},
   "outputs": [],
   "source": [
    "artistTrack = data.groupBy(\"artistId\", \"trackId\")\\\n",
    "                .agg(count('*').alias(\"weight\"))"
   ]
  },
  {
   "cell_type": "code",
   "execution_count": 13,
   "metadata": {},
   "outputs": [],
   "source": [
    "artist_track = norm(artistTrack, \"artistId\", \"weight\", 101).orderBy(col(\"norm_weight\").desc(), \n",
    "                                                            col(\"artistId\"), \n",
    "                                                            col(\"trackId\"))\\\n",
    "                                                   .withColumn(\"beta_weight\", col(\"norm_weight\") * beta_artist_track)\\\n",
    "                                                   .select(col(\"artistId\").alias(\"id1\"), col(\"trackId\").alias(\"id2\"),\n",
    "                                                          \"beta_weight\")\n",
    "                                                   "
   ]
  },
  {
   "cell_type": "code",
   "execution_count": 14,
   "metadata": {},
   "outputs": [],
   "source": [
    "userId = 776748\n",
    "userTracks = data.filter(col(\"userId\")==userId)\\\n",
    "                  .join(meta, col(\"trackId\")==col(\"Id\") ,\"inner\")\\\n",
    "\n",
    "userArtists = data.filter(col(\"userId\")==userId)\\\n",
    "                  .join(meta, col(\"artistId\")==col(\"Id\") ,\"inner\")\\\n",
    "\n",
    "x_0_track_artist = userTracks.union(userArtists)\\\n",
    "                    .select(\"id\")\\\n",
    "                    .orderBy(\"id\")\\\n",
    "                    .distinct()\\\n",
    "                    .withColumn(\"p\", lit(1))\n",
    "          "
   ]
  },
  {
   "cell_type": "code",
   "execution_count": 15,
   "metadata": {},
   "outputs": [],
   "source": [
    "edges = track_track.union(user_track).union(user_artist).union(artist_track)"
   ]
  },
  {
   "cell_type": "code",
   "execution_count": null,
   "metadata": {},
   "outputs": [],
   "source": [
    "\n",
    "user_id = data.select(col('userId').alias('id'))\\\n",
    "          .orderBy('userId')\\\n",
    "          .distinct()\n",
    "        \n",
    "track_id = data.select(col('trackId').alias(\"id\"))\\\n",
    "              .orderBy('trackId')\\\n",
    "              .distinct()\n",
    "        \n",
    "artist_id = data.select(col('artistId').alias(\"id\"))\\\n",
    "              .orderBy('artistId')\\\n",
    "              .distinct()\n",
    "        \n",
    "x_0 = user_id.union(track_id).union(artist_id).join(x_0_track_artist, \"id\", \"left\")\\\n",
    "            .select(\"id\", when(col(\"p\").isNull(), 0).otherwise(1).alias(\"p\"))\n",
    "\n",
    "u = x_0.select(\"id\").withColumn(\"u_p\", when(col(\"id\")==userId, 1).otherwise(0))\n"
   ]
  },
  {
   "cell_type": "code",
   "execution_count": null,
   "metadata": {},
   "outputs": [],
   "source": [
    "for i in range(5):\n",
    "    sigma = x_0.join(edges, col(\"id\")==col(\"id1\"), \"left\")\\\n",
    "                .na.fill(0, \"beta_weight\")\\\n",
    "                .withColumn(\"next_v\", col(\"p\")*col(\"beta_weight\"))\\\n",
    "                .groupBy(\"id2\")\\\n",
    "                .agg(sum(\"next_v\").alias(\"sigma\"))\n",
    "    x_0 = u.join(sigma, col(\"id\") == col(\"id2\"), how=\"left\")\\\n",
    "           .na.fill(0, [\"sigma\"])\\\n",
    "           .withColumn(\"beta_weights\", alpha*col(\"u_p\") + (1-alpha) * col(\"sigma\"))\\\n",
    "            .select(col(\"id\"), col(\"beta_weights\").alias(\"p\")).cache()\n"
   ]
  },
  {
   "cell_type": "code",
   "execution_count": null,
   "metadata": {},
   "outputs": [],
   "source": [
    "result = x_0.filter(col(\"id\") != userId)\\\n",
    "            .join(meta, \"id\", \"inner\")\\\n",
    "            .select(\"Name\", \"Artist\", round(col(\"p\"), 5).alias(\"p\"))\\\n",
    "            .orderBy(col(\"p\").desc()).take(40)"
   ]
  },
  {
   "cell_type": "code",
   "execution_count": null,
   "metadata": {},
   "outputs": [],
   "source": [
    "for value in result:\n",
    "    print('%s %s %s' % value)"
   ]
  },
  {
   "cell_type": "code",
   "execution_count": null,
   "metadata": {},
   "outputs": [],
   "source": []
  }
 ],
 "metadata": {
  "kernelspec": {
   "display_name": "Python 3",
   "language": "python",
   "name": "python3"
  },
  "language_info": {
   "codemirror_mode": {
    "name": "ipython",
    "version": 3
   },
   "file_extension": ".py",
   "mimetype": "text/x-python",
   "name": "python",
   "nbconvert_exporter": "python",
   "pygments_lexer": "ipython3",
   "version": "3.6.2"
  }
 },
 "nbformat": 4,
 "nbformat_minor": 2
}
