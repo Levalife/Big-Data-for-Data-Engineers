{
 "cells": [
  {
   "cell_type": "code",
   "execution_count": 24,
   "metadata": {},
   "outputs": [],
   "source": [
    "from pyspark.sql import SparkSession\n",
    "sparkSession = SparkSession.builder.enableHiveSupport().master(\"local\").getOrCreate()\n",
    "from pyspark.sql.functions import row_number, col, rank, when, sum, abs, count, lit, round\n",
    "\n",
    "alpha = 0.15"
   ]
  },
  {
   "cell_type": "code",
   "execution_count": 51,
   "metadata": {},
   "outputs": [],
   "source": [
    "from pyspark.sql.types import *\n",
    "schema = StructType([\n",
    "StructField(\"id1\", IntegerType(), True),\n",
    "StructField(\"id2\", IntegerType(), True),\n",
    "StructField(\"beta_weight\", DoubleType(), True),])\n",
    "\n",
    "l = [(1, 2, 0.4), (1, 3, 0.24), (1, 5, 0.36), (2, 3, 0.7), (2, 4, 0.3), (3, 5, 1.0), (4, 2, 0.3), (4, 5, 0.7), (5, 3 ,1.0)]\n",
    "edges1 = sparkSession.createDataFrame(l, schema)\n",
    "\n",
    "l1 = [(1, 1),(2,0),(3,0),(4,0),(5,0)]\n",
    "schema1 = StructType([\n",
    "StructField(\"id\", IntegerType(), True),\n",
    "StructField(\"p_u\", IntegerType(), True)])\n",
    "u = sparkSession.createDataFrame(l1, schema1)\n",
    "\n",
    "l2 = [(1, 1),(2,1),(3,1),(4,0),(5,1)]\n",
    "schema2 = StructType([\n",
    "StructField(\"id\", IntegerType(), True),\n",
    "StructField(\"p\", IntegerType(), True)])\n",
    "x_0 = sparkSession.createDataFrame(l2, schema2)"
   ]
  },
  {
   "cell_type": "code",
   "execution_count": 26,
   "metadata": {},
   "outputs": [
    {
     "data": {
      "text/plain": [
       "[Row(id=1, p=1, id1=1, id2=2, beta_weight=0.4, next_vertex=0.4),\n",
       " Row(id=1, p=1, id1=1, id2=3, beta_weight=0.24, next_vertex=0.24),\n",
       " Row(id=1, p=1, id1=1, id2=5, beta_weight=0.36, next_vertex=0.36),\n",
       " Row(id=3, p=1, id1=3, id2=5, beta_weight=1.0, next_vertex=1.0),\n",
       " Row(id=5, p=1, id1=5, id2=3, beta_weight=1.0, next_vertex=1.0),\n",
       " Row(id=4, p=0, id1=4, id2=2, beta_weight=0.3, next_vertex=0.0),\n",
       " Row(id=4, p=0, id1=4, id2=5, beta_weight=0.7, next_vertex=0.0),\n",
       " Row(id=2, p=1, id1=2, id2=3, beta_weight=0.7, next_vertex=0.7),\n",
       " Row(id=2, p=1, id1=2, id2=4, beta_weight=0.3, next_vertex=0.3)]"
      ]
     },
     "execution_count": 26,
     "metadata": {},
     "output_type": "execute_result"
    }
   ],
   "source": [
    "x_0.join(edges1, col(\"id\") == col(\"id1\"), \"left\")\\\n",
    "    .withColumn(\"next_vertex\", col(\"p\") * col(\"beta_weight\")).collect()"
   ]
  },
  {
   "cell_type": "code",
   "execution_count": 27,
   "metadata": {},
   "outputs": [
    {
     "data": {
      "text/plain": [
       "[Row(id2=3, sum(next_vertex)=1.94),\n",
       " Row(id2=5, sum(next_vertex)=1.3599999999999999),\n",
       " Row(id2=4, sum(next_vertex)=0.3),\n",
       " Row(id2=2, sum(next_vertex)=0.4)]"
      ]
     },
     "execution_count": 27,
     "metadata": {},
     "output_type": "execute_result"
    }
   ],
   "source": [
    "x_0.join(edges1, col(\"id\") == col(\"id1\"), \"left\")\\\n",
    "    .withColumn(\"next_vertex\", col(\"p\") * col(\"beta_weight\"))\\\n",
    "    .groupBy(\"id2\").agg(sum(\"next_vertex\")).collect()"
   ]
  },
  {
   "cell_type": "code",
   "execution_count": 28,
   "metadata": {},
   "outputs": [],
   "source": [
    "sigma1 = x_0.join(edges1, col(\"id\") == col(\"id1\"), \"left\")\\\n",
    "    .withColumn(\"next_vertex\", col(\"p\") * col(\"beta_weight\"))\\\n",
    "    .groupBy(\"id2\").agg(sum(\"next_vertex\").alias(\"sigma\"))"
   ]
  },
  {
   "cell_type": "code",
   "execution_count": 29,
   "metadata": {},
   "outputs": [
    {
     "data": {
      "text/plain": [
       "[Row(id=1, ((p_u * 0.15) + (sigma * 0.85))=0.15),\n",
       " Row(id=2, ((p_u * 0.15) + (sigma * 0.85))=0.34),\n",
       " Row(id=3, ((p_u * 0.15) + (sigma * 0.85))=1.649),\n",
       " Row(id=4, ((p_u * 0.15) + (sigma * 0.85))=0.255),\n",
       " Row(id=5, ((p_u * 0.15) + (sigma * 0.85))=1.156)]"
      ]
     },
     "execution_count": 29,
     "metadata": {},
     "output_type": "execute_result"
    }
   ],
   "source": [
    "x_1 = u.join(sigma1, col(\"id\")==col(\"id2\"), \"left\").na.fill(0, \"sigma\")\\\n",
    "        .select(\"id\", col(\"p_u\")*alpha + (1-alpha)*col(\"sigma\")).orderBy(\"id\")\n",
    "x_1.collect()"
   ]
  },
  {
   "cell_type": "code",
   "execution_count": null,
   "metadata": {},
   "outputs": [],
   "source": [
    "for i in range(5):\n",
    "    sigma1 = x_0.join(edges1, col(\"id\") == col(\"id1\"), \"left\")\\\n",
    "    .withColumn(\"next_vertex\", col(\"p\") * col(\"beta_weight\"))\\\n",
    "    .groupBy(\"id2\").agg(sum(\"next_vertex\").alias(\"sigma\"))\n",
    "    \n",
    "    x_0 = u.join(sigma1, col(\"id\")==col(\"id2\"), \"left\").na.fill(0, \"sigma\")\\\n",
    "       .select(\"id\", (col(\"p_u\")*alpha + (1-alpha)*col(\"sigma\")).alias(\"p\")).orderBy(\"id\")\n",
    "    x_0.collect()"
   ]
  },
  {
   "cell_type": "code",
   "execution_count": null,
   "metadata": {},
   "outputs": [
    {
     "data": {
      "text/plain": [
       "[Row(id2=3, sigma=1.3806508923125),\n",
       " Row(id2=5, sigma=1.10221169975),\n",
       " Row(id2=4, sigma=0.0175633576875),\n",
       " Row(id2=2, sigma=0.06559280025)]"
      ]
     },
     "execution_count": 53,
     "metadata": {},
     "output_type": "execute_result"
    }
   ],
   "source": [
    "sigma1.collect()"
   ]
  },
  {
   "cell_type": "code",
   "execution_count": null,
   "metadata": {},
   "outputs": [],
   "source": []
  }
 ],
 "metadata": {
  "kernelspec": {
   "display_name": "Python 3",
   "language": "python",
   "name": "python3"
  },
  "language_info": {
   "codemirror_mode": {
    "name": "ipython",
    "version": 3
   },
   "file_extension": ".py",
   "mimetype": "text/x-python",
   "name": "python",
   "nbconvert_exporter": "python",
   "pygments_lexer": "ipython3",
   "version": "3.6.2"
  }
 },
 "nbformat": 4,
 "nbformat_minor": 2
}
