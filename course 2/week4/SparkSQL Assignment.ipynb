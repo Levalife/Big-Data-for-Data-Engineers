{
 "cells": [
  {
   "cell_type": "code",
   "execution_count": 1,
   "metadata": {},
   "outputs": [],
   "source": [
    "from pyspark.sql import SparkSession\n",
    "sparkSession = SparkSession.builder.enableHiveSupport().master(\"local\").getOrCreate()"
   ]
  },
  {
   "cell_type": "code",
   "execution_count": 2,
   "metadata": {},
   "outputs": [],
   "source": [
    "graphPath = \"/data/graphDFSample\""
   ]
  },
  {
   "cell_type": "code",
   "execution_count": 3,
   "metadata": {},
   "outputs": [],
   "source": [
    "from pyspark.sql.functions import explode, collect_list, size, col, row_number, sort_array, count, udf\n",
    "from pyspark.sql.types import ArrayType, IntegerType\n",
    "from pyspark.sql import Window\n",
    "\n",
    "graphData = sparkSession.read.parquet(graphPath)"
   ]
  },
  {
   "cell_type": "code",
   "execution_count": 4,
   "metadata": {},
   "outputs": [],
   "source": [
    "friend_users = graphData.withColumn('friend', explode('friends'))\\\n",
    "        .groupBy('friend')\\\n",
    "        .agg(collect_list(\"user\").alias(\"users\"))\\\n",
    "        .withColumn(\"users\", sort_array(\"users\"))\\\n",
    "        .filter(size(\"users\") > 1)        "
   ]
  },
  {
   "cell_type": "code",
   "execution_count": null,
   "metadata": {},
   "outputs": [],
   "source": [
    "def make_pairs(users):\n",
    "    cnt = len(users)\n",
    "    result=list()\n",
    "    for i in range(cnt - 1):\n",
    "        for j in range(i+1, cnt):\n",
    "            result.append([users[i], users[j]])\n",
    "    return result\n",
    "\n",
    "pairs_udf = udf(make_pairs, ArrayType(ArrayType(IntegerType())))"
   ]
  },
  {
   "cell_type": "code",
   "execution_count": null,
   "metadata": {},
   "outputs": [],
   "source": [
    "result = friend_users.select(pairs_udf(\"users\").alias(\"pairs\"))\\\n",
    "                    .withColumn(\"user_pair\", explode(\"pairs\"))\\\n",
    "                    .groupBy(\"user_pair\")\\\n",
    "                    .agg(count(\"user_pair\").alias(\"common_friends_count\"))\\\n",
    "                    .select(col(\"common_friends_count\"),\n",
    "                            col(\"user_pair\")[0].alias(\"user_1\"), \n",
    "                            col(\"user_pair\")[1].alias(\"user_2\"))\n"
   ]
  },
  {
   "cell_type": "code",
   "execution_count": null,
   "metadata": {},
   "outputs": [],
   "source": [
    "window = Window.orderBy(col(\"common_friends_count\").desc(),\n",
    "                       col(\"user_1\").desc(),\n",
    "                       col(\"user_2\").desc())\n",
    "    \n",
    "top50 = result.withColumn(\"row_number\", row_number().over(window)) \\\n",
    "            .filter(col(\"row_number\") < 50) \\\n",
    "            .orderBy(col(\"common_friends_count\").desc(),\n",
    "                       col(\"user_1\").desc(),\n",
    "                       col(\"user_2\").desc()) \\\n",
    "            .collect()"
   ]
  },
  {
   "cell_type": "code",
   "execution_count": null,
   "metadata": {},
   "outputs": [],
   "source": [
    "for value in top50:\n",
    "    print '%s %s %s' % (value.common_friends_count, value.user_1, value.user_2)"
   ]
  },
  {
   "cell_type": "code",
   "execution_count": null,
   "metadata": {},
   "outputs": [],
   "source": []
  }
 ],
 "metadata": {
  "kernelspec": {
   "display_name": "Python 2",
   "language": "python",
   "name": "python2"
  },
  "language_info": {
   "codemirror_mode": {
    "name": "ipython",
    "version": 2
   },
   "file_extension": ".py",
   "mimetype": "text/x-python",
   "name": "python",
   "nbconvert_exporter": "python",
   "pygments_lexer": "ipython2",
   "version": "2.7.12"
  }
 },
 "nbformat": 4,
 "nbformat_minor": 2
}
