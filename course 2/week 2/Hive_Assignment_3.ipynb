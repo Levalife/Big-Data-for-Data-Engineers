{
 "cells": [
  {
   "cell_type": "code",
   "execution_count": 3,
   "metadata": {},
   "outputs": [
    {
     "name": "stdout",
     "output_type": "stream",
     "text": [
      "Overwriting task3_select_new_table.hql\n"
     ]
    }
   ],
   "source": [
    "%%writefile task3_select_new_table.hql\n",
    "USE stackoverflow_;\n",
    "WITH age_plain AS\n",
    "(    \n",
    "    SELECT age, IF(post_type_id==1, 1, 0) as cnt_q, IF(post_type_id==2, 1, 0) as cnt_a FROM\n",
    "        (SELECT * FROM users WHERE age is not NULL) T\n",
    "    JOIN \n",
    "        posts\n",
    "    ON T.id==posts.owner_user_id\n",
    ")\n",
    "SELECT age, SUM(cnt_q), SUM(cnt_a) FROM age_plain GROUP BY age;\n",
    "\n"
   ]
  },
  {
   "cell_type": "code",
   "execution_count": 4,
   "metadata": {},
   "outputs": [
    {
     "name": "stdout",
     "output_type": "stream",
     "text": [
      "\n",
      "Logging initialized using configuration in jar:file:/usr/local/apache-hive-1.1.0-bin/lib/hive-common-1.1.0.jar!/hive-log4j.properties\n",
      "OK\n",
      "Time taken: 1.101 seconds\n",
      "Query ID = jovyan_20190228184646_dab83e43-af16-4529-8ff2-b2c305597f0b\n",
      "Total jobs = 1\n",
      "Execution log at: /tmp/jovyan/jovyan_20190228184646_dab83e43-af16-4529-8ff2-b2c305597f0b.log\n",
      "2019-02-28 06:46:18\tStarting to launch local task to process map join;\tmaximum memory = 477626368\n",
      "2019-02-28 06:46:20\tDump the side-table for tag: 0 with group count: 5951 into file: file:/tmp/jovyan/bdb39bb5-bddf-4740-832a-5a46e534dd6f/hive_2019-02-28_18-46-09_340_1789950139564533982-1/-local-10004/HashTable-Stage-2/MapJoin-mapfile00--.hashtable\n",
      "2019-02-28 06:46:20\tUploaded 1 File to: file:/tmp/jovyan/bdb39bb5-bddf-4740-832a-5a46e534dd6f/hive_2019-02-28_18-46-09_340_1789950139564533982-1/-local-10004/HashTable-Stage-2/MapJoin-mapfile00--.hashtable (137665 bytes)\n",
      "2019-02-28 06:46:20\tEnd of local task; Time Taken: 2.094 sec.\n",
      "Execution completed successfully\n",
      "MapredLocal task succeeded\n",
      "Launching Job 1 out of 1\n",
      "Number of reduce tasks not specified. Estimated from input data size: 1\n",
      "In order to change the average load for a reducer (in bytes):\n",
      "  set hive.exec.reducers.bytes.per.reducer=<number>\n",
      "In order to limit the maximum number of reducers:\n",
      "  set hive.exec.reducers.max=<number>\n",
      "In order to set a constant number of reducers:\n",
      "  set mapreduce.job.reduces=<number>\n",
      "Starting Job = job_1551374820258_0005, Tracking URL = http://1ec436ddbd04:8088/proxy/application_1551374820258_0005/\n",
      "Kill Command = /opt/hadoop/bin/hadoop job  -kill job_1551374820258_0005\n",
      "Hadoop job information for Stage-2: number of mappers: 1; number of reducers: 1\n",
      "2019-02-28 18:46:36,251 Stage-2 map = 0%,  reduce = 0%\n",
      "2019-02-28 18:46:46,150 Stage-2 map = 100%,  reduce = 0%, Cumulative CPU 8.75 sec\n",
      "2019-02-28 18:46:55,938 Stage-2 map = 100%,  reduce = 100%, Cumulative CPU 12.92 sec\n",
      "MapReduce Total cumulative CPU time: 12 seconds 920 msec\n",
      "Ended Job = job_1551374820258_0005\n",
      "MapReduce Jobs Launched: \n",
      "Stage-Stage-2: Map: 1  Reduce: 1   Cumulative CPU: 12.92 sec   HDFS Read: 2261275 HDFS Write: 376 SUCCESS\n",
      "Total MapReduce CPU Time Spent: 12 seconds 920 msec\n",
      "OK\n",
      "14\t1\t0\n",
      "15\t1\t2\n",
      "16\t2\t0\n",
      "17\t0\t1\n",
      "18\t4\t1\n",
      "19\t1\t1\n",
      "20\t0\t2\n",
      "21\t11\t24\n",
      "22\t6\t18\n",
      "23\t12\t15\n",
      "24\t16\t27\n",
      "25\t20\t33\n",
      "26\t23\t44\n",
      "27\t28\t56\n",
      "28\t24\t37\n",
      "29\t24\t66\n",
      "30\t26\t67\n",
      "31\t17\t33\n",
      "32\t13\t48\n",
      "33\t11\t40\n",
      "34\t24\t36\n",
      "35\t12\t42\n",
      "36\t8\t64\n",
      "37\t9\t35\n",
      "38\t6\t17\n",
      "39\t3\t7\n",
      "40\t1\t13\n",
      "41\t5\t20\n",
      "42\t5\t22\n",
      "43\t2\t26\n",
      "44\t7\t35\n",
      "45\t1\t4\n",
      "46\t7\t9\n",
      "47\t1\t1\n",
      "48\t1\t1\n",
      "49\t1\t26\n",
      "50\t1\t26\n",
      "51\t4\t5\n",
      "52\t0\t2\n",
      "53\t0\t2\n",
      "54\t0\t1\n",
      "57\t0\t3\n",
      "58\t1\t57\n",
      "60\t0\t6\n",
      "61\t0\t3\n",
      "64\t2\t1\n",
      "86\t0\t1\n",
      "96\t3\t1\n",
      "Time taken: 48.414 seconds, Fetched: 48 row(s)\n"
     ]
    }
   ],
   "source": [
    "! hive -f task3_select_new_table.hql"
   ]
  },
  {
   "cell_type": "code",
   "execution_count": null,
   "metadata": {},
   "outputs": [],
   "source": []
  }
 ],
 "metadata": {
  "kernelspec": {
   "display_name": "Python 3",
   "language": "python",
   "name": "python3"
  },
  "language_info": {
   "codemirror_mode": {
    "name": "ipython",
    "version": 3
   },
   "file_extension": ".py",
   "mimetype": "text/x-python",
   "name": "python",
   "nbconvert_exporter": "python",
   "pygments_lexer": "ipython3",
   "version": "3.6.2"
  }
 },
 "nbformat": 4,
 "nbformat_minor": 2
}
