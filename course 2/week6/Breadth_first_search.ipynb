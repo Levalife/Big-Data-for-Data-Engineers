{
 "cells": [
  {
   "cell_type": "code",
   "execution_count": null,
   "metadata": {},
   "outputs": [],
   "source": [
    "from pyspark.sql import SparkSession\n",
    "sparkSession = SparkSession.builder.enableHiveSupport().master(\"local\").getOrCreate()\n",
    "\n",
    "from pyspark.sql.functions import explode, collect_list, size, col, row_number, sort_array, count, udf,when\n",
    "from pyspark.sql.types import ArrayType, IntegerType\n",
    "from pyspark.sql import Window\n",
    "from pyspark.sql.types import *\n",
    "\n",
    "cSchema = StructType([StructField(\"x\", StringType()),\n",
    "                      StructField(\"distance\", IntegerType())])\n",
    "\n",
    "distances_list=[[12, 0]]\n",
    "\n",
    "distances = sparkSession.createDataFrame(distances_list,schema=cSchema) \n",
    "\n",
    "customSchema = StructType([StructField(\"user\", StringType()),\n",
    "                           StructField(\"follower\", StringType())])\n",
    "graphData = sparkSession.read.option(\"delimiter\", \"\\t\").schema(customSchema).csv(\"/data/twitter/twitter_sample.txt\")\n",
    "\n",
    "forward_edges = graphData.select(col(\"follower\").alias(\"x1\"), \n",
    "                                 col(\"user\").alias(\"x2\")).persist()\n",
    "count_x = 0\n",
    "while count_x == 0:\n",
    "    candidates = distances.join(forward_edges, col(\"x\")==col(\"x1\"), \"inner\")\\\n",
    "                          .select(col(\"x2\").alias(\"x\"), (col(\"distance\") + 1).alias(\"new_distance\")).persist()\n",
    "    new_distances = distances.join(candidates, \"x\", \"outer\")\\\n",
    "                             .select(\"x\", when(col(\"distance\").isNotNull(), col(\"distance\"))\\\n",
    "                                            .otherwise(col(\"new_distance\")).alias(\"distance\")).persist()\n",
    "    distances = new_distances\n",
    "    check_x = new_distances.filter(col(\"x\") == 34)\n",
    "    count_x = check_x.count()\n",
    "    \n",
    "result = check_x.orderBy(\"distance\").take(1)\n",
    "print(result[0].distance)\n",
    "#check_x.collect()"
   ]
  },
  {
   "cell_type": "code",
   "execution_count": null,
   "metadata": {},
   "outputs": [],
   "source": []
  },
  {
   "cell_type": "code",
   "execution_count": null,
   "metadata": {},
   "outputs": [],
   "source": []
  },
  {
   "cell_type": "code",
   "execution_count": null,
   "metadata": {},
   "outputs": [],
   "source": []
  },
  {
   "cell_type": "code",
   "execution_count": null,
   "metadata": {},
   "outputs": [],
   "source": []
  },
  {
   "cell_type": "code",
   "execution_count": null,
   "metadata": {},
   "outputs": [],
   "source": []
  }
 ],
 "metadata": {
  "kernelspec": {
   "display_name": "Python 3",
   "language": "python",
   "name": "python3"
  },
  "language_info": {
   "codemirror_mode": {
    "name": "ipython",
    "version": 3
   },
   "file_extension": ".py",
   "mimetype": "text/x-python",
   "name": "python",
   "nbconvert_exporter": "python",
   "pygments_lexer": "ipython3",
   "version": "3.6.2"
  }
 },
 "nbformat": 4,
 "nbformat_minor": 2
}
